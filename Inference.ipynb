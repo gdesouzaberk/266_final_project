{
  "cells": [
    {
      "cell_type": "markdown",
      "source": [
        "# **Experiment 2: Inference and DB Code Execution Notebook**\n"
      ],
      "metadata": {
        "id": "IqM-T1RTzY6C"
      }
    },
    {
      "cell_type": "markdown",
      "source": [
        "This notebook is for the 2nd experiment in my final project, where I test Execution Accuracy (EA) via direct code execution of generated SQL vs. a toy SQLITE database."
      ],
      "metadata": {
        "id": "e-RcnfiadzMr"
      }
    },
    {
      "cell_type": "code",
      "execution_count": 1,
      "metadata": {
        "id": "2eSvM9zX_2d3"
      },
      "outputs": [],
      "source": [
        "%%capture\n",
        "# using unsloth, which is faster and less memory than hugging face\n",
        "!pip install \"unsloth[colab-new] @ git+https://github.com/unslothai/unsloth.git\"\n",
        "!pip install --no-deps \"xformers<0.0.27\" \"trl<0.9.0\" peft accelerate bitsandbytes\n",
        "!pip install evaluate\n",
        "!pip install tbparse\n"
      ]
    },
    {
      "cell_type": "code",
      "source": [
        "from datasets import load_dataset, Dataset, concatenate_datasets, list_metrics,load_metric\n",
        "import pandas as pd\n",
        "from unsloth import FastLanguageModel,is_bfloat16_supported\n",
        "import torch\n",
        "import tensorboard as tb\n",
        "from tbparse import SummaryReader\n",
        "import tbparse\n",
        "import re\n",
        "from transformers import AutoTokenizer, TrainingArguments, pipeline, TrainerCallback\n",
        "from random import randint\n",
        "import numpy as np\n",
        "import evaluate\n",
        "from trl import SFTTrainer\n",
        "from tqdm import tqdm\n",
        "import matplotlib.pyplot as plt\n",
        "import glob\n",
        "import os\n",
        "import sqlite3\n",
        "import csv\n",
        "from tqdm import tqdm"
      ],
      "metadata": {
        "colab": {
          "base_uri": "https://localhost:8080/"
        },
        "id": "wi2YDeVDdCG5",
        "outputId": "1a51b8a7-9950-4d6c-b65b-6347cbdd19fb"
      },
      "execution_count": 2,
      "outputs": [
        {
          "output_type": "stream",
          "name": "stdout",
          "text": [
            "🦥 Unsloth: Will patch your computer to enable 2x faster free finetuning.\n"
          ]
        }
      ]
    },
    {
      "cell_type": "code",
      "source": [
        "from google.colab import files"
      ],
      "metadata": {
        "id": "VJNYJsaTkks1"
      },
      "execution_count": 3,
      "outputs": []
    },
    {
      "cell_type": "code",
      "source": [
        "# connect to gdrive to save and retrieve trained models locally\n",
        "from google.colab import drive\n",
        "drive_path=\"/content/gdrive\"\n",
        "drive.mount(drive_path)"
      ],
      "metadata": {
        "colab": {
          "base_uri": "https://localhost:8080/"
        },
        "id": "o4IUAtx9oy27",
        "outputId": "c401580a-a343-476f-824a-6254c8406a86"
      },
      "execution_count": 4,
      "outputs": [
        {
          "output_type": "stream",
          "name": "stdout",
          "text": [
            "Mounted at /content/gdrive\n"
          ]
        }
      ]
    },
    {
      "cell_type": "code",
      "execution_count": 5,
      "metadata": {
        "id": "QmUBVEnvCDJv"
      },
      "outputs": [],
      "source": [
        "max_seq_length = 2048\n",
        "dtype = None # None for auto detection. Float16 for Tesla T4, V100, Bfloat16 for Ampere+\n",
        "load_in_4bit = True # 4-bit quantization\n",
        "\n",
        "model_dir=f\"{drive_path}/MyDrive/models\"\n",
        "checkpoint_dir=f\"{drive_path}/MyDrive/checkpoints\"\n",
        "sqlite_dir=f\"{drive_path}/MyDrive/sqlite\"\n"
      ]
    },
    {
      "cell_type": "markdown",
      "source": [
        "## **Create SQLite toy database**"
      ],
      "metadata": {
        "id": "k39YgKpnddlY"
      }
    },
    {
      "cell_type": "markdown",
      "source": [
        "Create database via SQL statements below and sample data loaded from CSV files. The database is composed of tables related to stock market portfolios, with no additional context given to our Llama model other than create table statements"
      ],
      "metadata": {
        "id": "pfyv43GY6nj3"
      }
    },
    {
      "cell_type": "code",
      "source": [
        "conn = sqlite3.connect('toy.db')\n",
        "c = conn.cursor() #\n",
        "\n",
        "# Create table - CLIENTS\n",
        "# c.execute('''CREATE TABLE test_table\n",
        "#              ([id] INTEGER PRIMARY KEY, [name] text, [email] text, [joining_date] date, [salary] integer)''')\n",
        "\n",
        "c.execute('''DROP TABLE IF EXISTS portfolios''')\n",
        "conn.commit()\n",
        "\n",
        "c.execute('''DROP TABLE IF EXISTS portfolio_holdings''')\n",
        "conn.commit()\n",
        "\n",
        "c.execute('''DROP TABLE IF EXISTS stock_prices''')\n",
        "conn.commit()\n",
        "\n",
        "# Create table - PORTFOLIOS\n",
        "c.execute('''CREATE TABLE IF NOT EXISTS portfolios (portfolio_id INT, portfolio VARCHAR(50), portfolio_owner VARCHAR(50),age INT)''')\n",
        "conn.commit()\n",
        "\n",
        "file = open(f\"{sqlite_dir}/portfolios.csv\",encoding='utf-8-sig')\n",
        "contents = csv.reader(file)\n",
        "insert_records = \"INSERT INTO portfolios (portfolio_id,portfolio, portfolio_owner,age) VALUES(?, ?, ?,?)\"\n",
        "c.executemany(insert_records, contents)\n",
        "\n",
        "# Create table - PORTFOLIO HOLDINGS\n",
        "c.execute('''CREATE TABLE IF NOT EXISTS portfolio_holdings (portfolio_id INT, date DATE,ticker VARCHAR(10),shares INT)''')\n",
        "conn.commit()\n",
        "\n",
        "file = open(f\"{sqlite_dir}/portfolio_holdings.csv\",encoding='utf-8-sig')\n",
        "contents = csv.reader(file)\n",
        "insert_records = \"INSERT INTO portfolio_holdings (portfolio_id,date,ticker,shares) VALUES(?, ?,?,?)\"\n",
        "c.executemany(insert_records, contents)\n",
        "\n",
        "# Create table - STOCK PRICES\n",
        "c.execute('''CREATE TABLE IF NOT EXISTS stock_prices (date DATE,ticker VARCHAR(10),price NUMERIC)''')\n",
        "conn.commit()\n",
        "\n",
        "file = open(f\"{sqlite_dir}/prices_melted.csv\",encoding='utf-8-sig')\n",
        "contents = csv.reader(file)\n",
        "insert_records = \"INSERT INTO stock_prices (date,ticker,price) VALUES(?, ?,?)\"\n",
        "c.executemany(insert_records, contents)\n",
        "\n",
        "conn.commit()\n",
        "conn.close()\n",
        "\n"
      ],
      "metadata": {
        "id": "F0hGlm3JW3cM"
      },
      "execution_count": 6,
      "outputs": []
    },
    {
      "cell_type": "markdown",
      "source": [
        "SQL context that will be added to every question for this experiment."
      ],
      "metadata": {
        "id": "angys6aw6zQG"
      }
    },
    {
      "cell_type": "code",
      "source": [
        "sql_context=\"\"\"CREATE TABLE IF NOT EXISTS portfolios (portfolio_id INT, portfolio VARCHAR(50),portfolio_owner (VARCHAR(50),age INT));\n",
        "CREATE TABLE portfolio_holdings (portfolio_id INT, date DATE,ticker VARCHAR(10),shares INT);\n",
        "CREATE TABLE stock_prices (date DATE,ticker VARCHAR(10),price NUMERIC);\"\"\""
      ],
      "metadata": {
        "id": "SkA5umEnsb7y"
      },
      "execution_count": 7,
      "outputs": []
    },
    {
      "cell_type": "markdown",
      "source": [
        "Get manually prepared Q&A for code execution"
      ],
      "metadata": {
        "id": "G8AIxGdTttiU"
      }
    },
    {
      "cell_type": "code",
      "source": [
        "questions_df=pd.read_csv(f\"{sqlite_dir}/sql_questions_for_code_execution.csv\")"
      ],
      "metadata": {
        "id": "SMdtQlYutsDN"
      },
      "execution_count": 8,
      "outputs": []
    },
    {
      "cell_type": "code",
      "source": [
        "!ls"
      ],
      "metadata": {
        "colab": {
          "base_uri": "https://localhost:8080/"
        },
        "id": "HAZkaOvVXZ__",
        "outputId": "2ee9b5c5-350a-411f-819c-273f6f7beb4d"
      },
      "execution_count": 9,
      "outputs": [
        {
          "output_type": "stream",
          "name": "stdout",
          "text": [
            "gdrive\tsample_data  toy.db\n"
          ]
        }
      ]
    },
    {
      "cell_type": "markdown",
      "source": [
        "Test database connection and query portfolios table (should return 5 records):"
      ],
      "metadata": {
        "id": "UdAPQZ_06-0k"
      }
    },
    {
      "cell_type": "code",
      "source": [
        "conn = sqlite3.connect(\"toy.db\")\n",
        "\n",
        "cur = conn.cursor()\n",
        "cur.execute(\"SELECT COUNT(*) FROM portfolio_holdings JOIN portfolios ON portfolio_holdings.portfolio_id = portfolios.portfolio_id WHERE portfolios.portfolio_owner = 'portfolioB' AND date = '2024-08-01';\")\n",
        "rows = cur.fetchall()\n",
        "\n",
        "for row in rows:\n",
        "  print(row)\n",
        "\n",
        "conn.close()"
      ],
      "metadata": {
        "colab": {
          "base_uri": "https://localhost:8080/"
        },
        "id": "SwjxzImEX20y",
        "outputId": "97e4d0c5-950d-4653-c2d3-705779c22aee"
      },
      "execution_count": 23,
      "outputs": [
        {
          "output_type": "stream",
          "name": "stdout",
          "text": [
            "(0,)\n"
          ]
        }
      ]
    },
    {
      "cell_type": "markdown",
      "source": [
        "Use the same system prompt format as Experiment 1:"
      ],
      "metadata": {
        "id": "vITh0KVJ10qX"
      }
    },
    {
      "cell_type": "code",
      "source": [
        "system_message = \"\"\"You are a text to SQL query translator. Use SQLite dialect only. Users will ask you questions in English and you will generate a SQL query based on the provided SCHEMA only.\n",
        "SCHEMA:\n",
        "{schema}\"\"\""
      ],
      "metadata": {
        "id": "npgs-Yb20PaI"
      },
      "execution_count": 11,
      "outputs": []
    },
    {
      "cell_type": "code",
      "source": [
        "def create_conversation_qa(examples):\n",
        "  return {\n",
        "    \"messages\": [\n",
        "      {\"role\": \"system\", \"content\": system_message.format(schema=sql_context)},\n",
        "      {\"role\": \"user\", \"content\": examples[\"question\"]},\n",
        "      {\"role\": \"assistant\", \"content\": \"SELECT * from dont matter\"}\n",
        "    ]\n",
        "  }"
      ],
      "metadata": {
        "id": "XmODuZzYzYTL"
      },
      "execution_count": 12,
      "outputs": []
    },
    {
      "cell_type": "code",
      "source": [
        "qa_dataset = Dataset.from_pandas(questions_df)\n",
        "qa_dataset=qa_dataset.map(create_conversation_qa, remove_columns=qa_dataset.features,batched = False,)"
      ],
      "metadata": {
        "colab": {
          "base_uri": "https://localhost:8080/",
          "height": 69,
          "referenced_widgets": [
            "b8fc224170504caba7dab63f067b7d08",
            "82356c00c1e2401eb1691a52c74031cf",
            "1e7b53272e5f4bf394a0e5874be428a3",
            "d88c64eba1304e319150eea51052c8d6",
            "e4cbd82b6b284efca9edcf6021764e10",
            "50188fafe70a4496b6e76fdcf03b24f9",
            "1bf81d35f67942c78fd5709c623fb994",
            "2d4c36e3794d463c96df960789c764ee",
            "bfd6a2e7d67d4a4283157435881f0092",
            "db940857796b403fa81cad7bebad4847",
            "8949e21a278f4a4297dcb1958ccaf4b0"
          ]
        },
        "id": "RKOs1cuZyE_h",
        "outputId": "0d5ba90d-3c2d-4ab6-f2ec-d7ed4c46cc28"
      },
      "execution_count": 13,
      "outputs": [
        {
          "output_type": "display_data",
          "data": {
            "text/plain": [
              "Map:   0%|          | 0/100 [00:00<?, ? examples/s]"
            ],
            "application/vnd.jupyter.widget-view+json": {
              "version_major": 2,
              "version_minor": 0,
              "model_id": "b8fc224170504caba7dab63f067b7d08"
            }
          },
          "metadata": {}
        }
      ]
    },
    {
      "cell_type": "markdown",
      "source": [
        "Check memory:"
      ],
      "metadata": {
        "id": "Cqj_u_-p7SQP"
      }
    },
    {
      "cell_type": "markdown",
      "source": [
        "## **Inference and SQL Query Execution**"
      ],
      "metadata": {
        "id": "yH5fUv-K7eVR"
      }
    },
    {
      "cell_type": "code",
      "execution_count": 14,
      "metadata": {
        "id": "2ejIt2xSNKKp",
        "colab": {
          "base_uri": "https://localhost:8080/"
        },
        "outputId": "ae6d3384-492e-4881-d537-912d397e3774"
      },
      "outputs": [
        {
          "output_type": "stream",
          "name": "stdout",
          "text": [
            "GPU = NVIDIA A100-SXM4-40GB. Max memory = 39.564 GB.\n",
            "0.0 GB of memory reserved.\n"
          ]
        }
      ],
      "source": [
        "gpu_stats = torch.cuda.get_device_properties(0)\n",
        "start_gpu_memory = round(torch.cuda.max_memory_reserved() / 1024 / 1024 / 1024, 3)\n",
        "max_memory = round(gpu_stats.total_memory / 1024 / 1024 / 1024, 3)\n",
        "print(f\"GPU = {gpu_stats.name}. Max memory = {max_memory} GB.\")\n",
        "print(f\"{start_gpu_memory} GB of memory reserved.\")"
      ]
    },
    {
      "cell_type": "markdown",
      "source": [
        "Load our saved model (Lora adapter config file):"
      ],
      "metadata": {
        "id": "I14fadP17VJG"
      }
    },
    {
      "cell_type": "code",
      "source": [
        "model, tokenizer = FastLanguageModel.from_pretrained(\n",
        "    model_name = f\"{model_dir}/lora_model\", # model named saved locally during training\n",
        "    max_seq_length = max_seq_length,\n",
        "    dtype = dtype,\n",
        "    load_in_4bit = load_in_4bit,\n",
        ")"
      ],
      "metadata": {
        "colab": {
          "base_uri": "https://localhost:8080/",
          "height": 223,
          "referenced_widgets": [
            "8e9a7f41f5aa46078dea603343d12c23",
            "f4770cc22f07470fbc363d7e88173ef2",
            "355e5c9aaab34e9d8c7fa9cd430ca29f",
            "514543e2b1ec4f3fab137268ab7e77cc",
            "10089bff6fa34a0589a1d01ac00dc905",
            "648d896e42c649968f104859fb299169",
            "e4ed4cc7fcfc4b969dfc2304e865809d",
            "6c2da46218504e8d807c7fdffffe4225",
            "7cc5e3553b3a45b39fa99afd27f2326d",
            "a2caf7c999a242c1b0cc06cefeefcc1c",
            "cbd27ac7cd19427ca5c02ee82b3cad89",
            "f3a8a1397b5a4372af29af0b5bcc42a6",
            "82730257188445fbadc5b2603d7cb809",
            "a86581ca62ad423185ec6d15ad42151c",
            "b25904e4f63e4466943af9b5fd05b4a3",
            "20e78c8abe1140f693244fd97a79e7cf",
            "e8ba5466722041899bc9d243deddf618",
            "f66c20ecab3e4f09ba9229ef682b9b6d",
            "933f08316ec8402e8ea7b210a0b6c8b0",
            "9e8338064a9a4f348d82a96130179975",
            "ffc38a2af40545679cecccb7359124d4",
            "7b172d7da157499c8b0c9cf1bab0ddf1"
          ]
        },
        "id": "aXGT9q6sXozd",
        "outputId": "9b3c5bf2-db96-46a0-ce40-b8880ddf3abe"
      },
      "execution_count": 15,
      "outputs": [
        {
          "output_type": "stream",
          "name": "stdout",
          "text": [
            "==((====))==  Unsloth 2024.8: Fast Llama patching. Transformers = 4.43.3.\n",
            "   \\\\   /|    GPU: NVIDIA A100-SXM4-40GB. Max memory: 39.564 GB. Platform = Linux.\n",
            "O^O/ \\_/ \\    Pytorch: 2.3.1+cu121. CUDA = 8.0. CUDA Toolkit = 12.1.\n",
            "\\        /    Bfloat16 = TRUE. FA [Xformers = 0.0.26.post1. FA2 = False]\n",
            " \"-____-\"     Free Apache license: http://github.com/unslothai/unsloth\n",
            "Unsloth: Fast downloading is enabled - ignore downloading bars which are red colored!\n"
          ]
        },
        {
          "output_type": "display_data",
          "data": {
            "text/plain": [
              "model.safetensors:   0%|          | 0.00/5.70G [00:00<?, ?B/s]"
            ],
            "application/vnd.jupyter.widget-view+json": {
              "version_major": 2,
              "version_minor": 0,
              "model_id": "8e9a7f41f5aa46078dea603343d12c23"
            }
          },
          "metadata": {}
        },
        {
          "output_type": "display_data",
          "data": {
            "text/plain": [
              "generation_config.json:   0%|          | 0.00/184 [00:00<?, ?B/s]"
            ],
            "application/vnd.jupyter.widget-view+json": {
              "version_major": 2,
              "version_minor": 0,
              "model_id": "f3a8a1397b5a4372af29af0b5bcc42a6"
            }
          },
          "metadata": {}
        },
        {
          "output_type": "stream",
          "name": "stderr",
          "text": [
            "Unsloth 2024.8 patched 32 layers with 32 QKV layers, 32 O layers and 32 MLP layers.\n"
          ]
        }
      ]
    },
    {
      "cell_type": "markdown",
      "source": [
        "Set up the model for inference:"
      ],
      "metadata": {
        "id": "tZ9eTAqM7m0j"
      }
    },
    {
      "cell_type": "code",
      "source": [
        "FastLanguageModel.for_inference(model)"
      ],
      "metadata": {
        "id": "QGz0KYjtRtJ7"
      },
      "execution_count": 16,
      "outputs": []
    },
    {
      "cell_type": "code",
      "source": [
        "pipe = pipeline(\"text-generation\", model=model, tokenizer=tokenizer)"
      ],
      "metadata": {
        "colab": {
          "base_uri": "https://localhost:8080/"
        },
        "id": "uKbwgkofQaVT",
        "outputId": "0570c298-54ef-45df-ff14-2d4e64017d84"
      },
      "execution_count": 17,
      "outputs": [
        {
          "output_type": "stream",
          "name": "stderr",
          "text": [
            "The model 'PeftModelForCausalLM' is not supported for text-generation. Supported models are ['BartForCausalLM', 'BertLMHeadModel', 'BertGenerationDecoder', 'BigBirdForCausalLM', 'BigBirdPegasusForCausalLM', 'BioGptForCausalLM', 'BlenderbotForCausalLM', 'BlenderbotSmallForCausalLM', 'BloomForCausalLM', 'CamembertForCausalLM', 'LlamaForCausalLM', 'CodeGenForCausalLM', 'CohereForCausalLM', 'CpmAntForCausalLM', 'CTRLLMHeadModel', 'Data2VecTextForCausalLM', 'DbrxForCausalLM', 'ElectraForCausalLM', 'ErnieForCausalLM', 'FalconForCausalLM', 'FuyuForCausalLM', 'GemmaForCausalLM', 'Gemma2ForCausalLM', 'GitForCausalLM', 'GPT2LMHeadModel', 'GPT2LMHeadModel', 'GPTBigCodeForCausalLM', 'GPTNeoForCausalLM', 'GPTNeoXForCausalLM', 'GPTNeoXJapaneseForCausalLM', 'GPTJForCausalLM', 'JambaForCausalLM', 'JetMoeForCausalLM', 'LlamaForCausalLM', 'MambaForCausalLM', 'MarianForCausalLM', 'MBartForCausalLM', 'MegaForCausalLM', 'MegatronBertForCausalLM', 'MistralForCausalLM', 'MixtralForCausalLM', 'MptForCausalLM', 'MusicgenForCausalLM', 'MusicgenMelodyForCausalLM', 'MvpForCausalLM', 'OlmoForCausalLM', 'OpenLlamaForCausalLM', 'OpenAIGPTLMHeadModel', 'OPTForCausalLM', 'PegasusForCausalLM', 'PersimmonForCausalLM', 'PhiForCausalLM', 'Phi3ForCausalLM', 'PLBartForCausalLM', 'ProphetNetForCausalLM', 'QDQBertLMHeadModel', 'Qwen2ForCausalLM', 'Qwen2MoeForCausalLM', 'RecurrentGemmaForCausalLM', 'ReformerModelWithLMHead', 'RemBertForCausalLM', 'RobertaForCausalLM', 'RobertaPreLayerNormForCausalLM', 'RoCBertForCausalLM', 'RoFormerForCausalLM', 'RwkvForCausalLM', 'Speech2Text2ForCausalLM', 'StableLmForCausalLM', 'Starcoder2ForCausalLM', 'TransfoXLLMHeadModel', 'TrOCRForCausalLM', 'WhisperForCausalLM', 'XGLMForCausalLM', 'XLMWithLMHeadModel', 'XLMProphetNetForCausalLM', 'XLMRobertaForCausalLM', 'XLMRobertaXLForCausalLM', 'XLNetLMHeadModel', 'XmodForCausalLM'].\n"
          ]
        }
      ]
    },
    {
      "cell_type": "markdown",
      "source": [
        "Functions for retrieving SQL to execute, as well as executing SQL and returning result"
      ],
      "metadata": {
        "id": "oSu4x5zC73NF"
      }
    },
    {
      "cell_type": "code",
      "source": [
        "def get_sql(sample):\n",
        "    prompt = pipe.tokenizer.apply_chat_template(sample[\"messages\"][:2], tokenize=False, add_generation_prompt=True)\n",
        "    outputs = pipe(prompt, max_new_tokens=256, do_sample=True, temperature=0.01, top_k=50, top_p=0.95, eos_token_id=pipe.tokenizer.eos_token_id, pad_token_id=pipe.tokenizer.pad_token_id)\n",
        "    question=sample['messages'][1]['content']\n",
        "    predicted_answer = outputs[0]['generated_text'][len(prompt):].strip()\n",
        "\n",
        "    return question,predicted_answer"
      ],
      "metadata": {
        "id": "mCgISf9lwud9"
      },
      "execution_count": 18,
      "outputs": []
    },
    {
      "cell_type": "code",
      "source": [
        "def get_sqlite_answer(sql_string):\n",
        "\n",
        "  conn = sqlite3.connect(\"toy.db\")\n",
        "  cur = conn.cursor()\n",
        "  try:\n",
        "    cur.execute(sql_string)\n",
        "    print(\"hello\")\n",
        "    rows = cur.fetchall()\n",
        "    answer=rows[0][0]\n",
        "    conn.close()\n",
        "    if answer is None:\n",
        "      return 0\n",
        "    else:\n",
        "      return answer\n",
        "  except sqlite3.OperationalError as e:\n",
        "      # Handle specific SQL execution errors\n",
        "      print(f\"SQL execution error: {e}\")\n",
        "      return \"error\"\n",
        "  except sqlite3.DatabaseError as e:\n",
        "      # Handle general database errors\n",
        "      print(f\"Database error: {e}\")\n",
        "      return \"error\"\n",
        "  except Exception as e:\n",
        "      # Handle other exceptions\n",
        "      print(f\"An unexpected error occurred: {e}\")\n",
        "      return \"error\"\n",
        "  finally:\n",
        "    # Ensure the connection is closed\n",
        "    if conn:\n",
        "      conn.close()\n",
        "  conn.close()\n"
      ],
      "metadata": {
        "id": "7JTl-__D01Ku"
      },
      "execution_count": 19,
      "outputs": []
    },
    {
      "cell_type": "code",
      "source": [
        "def convert_to_int_or_return(value):\n",
        "    try:\n",
        "        float_value = float(value)\n",
        "        # Attempt to convert the value to an integer\n",
        "        return int(float_value)\n",
        "    except ValueError:\n",
        "        # If a ValueError occurs, return the original value\n",
        "        return value"
      ],
      "metadata": {
        "id": "bhfIxNxDB1cH"
      },
      "execution_count": 20,
      "outputs": []
    },
    {
      "cell_type": "markdown",
      "source": [
        "Run the inference, collect results, and display accuracy for both the easy and medium/hard questions separately:"
      ],
      "metadata": {
        "id": "um116vVD8CmK"
      }
    },
    {
      "cell_type": "code",
      "source": [
        "qa_easy_success_rate=[]\n",
        "qa_med_hard_success_rate=[]\n",
        "easy_error_count=0\n",
        "med_hard_error_count=0\n",
        "\n",
        "for s in tqdm(qa_dataset):\n",
        "    orig_question,generated_sql=get_sql(s)\n",
        "    print(\"original question was: \",orig_question)\n",
        "    print(\"generated sql was: \",generated_sql)\n",
        "    actual_answer=convert_to_int_or_return(questions_df.loc[questions_df['question']==orig_question]['answer'].values[0])\n",
        "    difficulty=questions_df.loc[questions_df['question']==orig_question]['difficulty'].values[0]\n",
        "    print(\"actual answer was: \",actual_answer)\n",
        "    result=convert_to_int_or_return(get_sqlite_answer(generated_sql))\n",
        "    print(\"sqlite answer was: \",result)\n",
        "    if actual_answer==result:\n",
        "      if difficulty=='easy':\n",
        "        qa_easy_success_rate.append(1)\n",
        "      else:\n",
        "        qa_med_hard_success_rate.append(1)\n",
        "    elif result==\"error\":\n",
        "      if difficulty=='easy':\n",
        "        qa_easy_success_rate.append(0)\n",
        "        easy_error_count+=1\n",
        "      else:\n",
        "        qa_med_hard_success_rate.append(0)\n",
        "        med_hard_error_count+=1\n",
        "    else:\n",
        "      if difficulty=='easy':\n",
        "        qa_easy_success_rate.append(0)\n",
        "      else:\n",
        "        qa_med_hard_success_rate.append(0)\n",
        "    if len(qa_easy_success_rate)>0:\n",
        "      qa_easy_accuracy = sum(qa_easy_success_rate)/len(qa_easy_success_rate)\n",
        "      print(f\"Easy Q&A Accuracy: {qa_easy_accuracy*100:.2f}%\")\n",
        "      print(\"Easy SQL Execution Error Rate: \",easy_error_count/len(qa_easy_success_rate))\n",
        "    if len(qa_med_hard_success_rate)>0:\n",
        "      qa_med_hard_accuracy = sum(qa_med_hard_success_rate)/len(qa_med_hard_success_rate)\n",
        "      print(f\"Med/Hard Q&A Accuracy: {qa_med_hard_accuracy*100:.2f}%\")\n",
        "      print(\"Med/Hard SQL Execution Error Rate: \",med_hard_error_count/len(qa_med_hard_success_rate))\n",
        "\n",
        "qa_easy_accuracy = sum(qa_easy_success_rate)/len(qa_easy_success_rate)\n",
        "qa_med_hard_accuracy = sum(qa_med_hard_success_rate)/len(qa_med_hard_success_rate)\n",
        "\n",
        "print(f\"Easy Q&A Accuracy: {qa_easy_accuracy*100:.2f}%\")\n",
        "print(f\"Easy SQL Execution Error Rate: {(easy_error_count/len(qa_easy_success_rate))*100:.2f}%\")\n",
        "\n",
        "print(f\"Med/Hard Q&A Accuracy: {qa_med_hard_accuracy*100:.2f}%\")\n",
        "print(f\"Med/Hard SQL Execution Error Rate: {(med_hard_error_count/len(qa_med_hard_success_rate))*100:.2f}%\")\n"
      ],
      "metadata": {
        "colab": {
          "base_uri": "https://localhost:8080/"
        },
        "id": "Nm-8a6N4czV3",
        "outputId": "a525c49a-892c-46df-bff2-73939ea4e9a2"
      },
      "execution_count": 21,
      "outputs": [
        {
          "output_type": "stream",
          "name": "stderr",
          "text": [
            "  1%|          | 1/100 [00:05<08:54,  5.40s/it]"
          ]
        },
        {
          "output_type": "stream",
          "name": "stdout",
          "text": [
            "original question was:  How many different portfolios are there?\n",
            "generated sql was:  SELECT COUNT(DISTINCT portfolio) FROM portfolios;\n",
            "actual answer was:  5\n",
            "hello\n",
            "sqlite answer was:  5\n",
            "Easy Q&A Accuracy: 100.00%\n",
            "Easy SQL Execution Error Rate:  0.0\n"
          ]
        },
        {
          "output_type": "stream",
          "name": "stderr",
          "text": [
            "\r  2%|▏         | 2/100 [00:06<04:35,  2.82s/it]"
          ]
        },
        {
          "output_type": "stream",
          "name": "stdout",
          "text": [
            "original question was:  What is the id of portfolioA?\n",
            "generated sql was:  SELECT portfolio_id FROM portfolios WHERE portfolio = 'portfolioA';\n",
            "actual answer was:  1\n",
            "hello\n",
            "sqlite answer was:  1\n",
            "Easy Q&A Accuracy: 100.00%\n",
            "Easy SQL Execution Error Rate:  0.0\n"
          ]
        },
        {
          "output_type": "stream",
          "name": "stderr",
          "text": [
            "\r  3%|▎         | 3/100 [00:07<03:08,  1.95s/it]"
          ]
        },
        {
          "output_type": "stream",
          "name": "stdout",
          "text": [
            "original question was:  What is the id of portfolioB?\n",
            "generated sql was:  SELECT portfolio_id FROM portfolios WHERE portfolio = 'portfolioB';\n",
            "actual answer was:  2\n",
            "hello\n",
            "sqlite answer was:  2\n",
            "Easy Q&A Accuracy: 100.00%\n",
            "Easy SQL Execution Error Rate:  0.0\n"
          ]
        },
        {
          "output_type": "stream",
          "name": "stderr",
          "text": [
            "\r  4%|▍         | 4/100 [00:08<02:27,  1.54s/it]"
          ]
        },
        {
          "output_type": "stream",
          "name": "stdout",
          "text": [
            "original question was:  What is the id of portfolioC?\n",
            "generated sql was:  SELECT portfolio_id FROM portfolios WHERE portfolio = 'portfolioC';\n",
            "actual answer was:  3\n",
            "hello\n",
            "sqlite answer was:  3\n",
            "Easy Q&A Accuracy: 100.00%\n",
            "Easy SQL Execution Error Rate:  0.0\n"
          ]
        },
        {
          "output_type": "stream",
          "name": "stderr",
          "text": [
            "\r  5%|▌         | 5/100 [00:09<02:06,  1.33s/it]"
          ]
        },
        {
          "output_type": "stream",
          "name": "stdout",
          "text": [
            "original question was:  What is the id of portfolioD?\n",
            "generated sql was:  SELECT portfolio_id FROM portfolios WHERE portfolio = 'portfolioD';\n",
            "actual answer was:  4\n",
            "hello\n",
            "sqlite answer was:  4\n",
            "Easy Q&A Accuracy: 100.00%\n",
            "Easy SQL Execution Error Rate:  0.0\n"
          ]
        },
        {
          "output_type": "stream",
          "name": "stderr",
          "text": [
            "\r  6%|▌         | 6/100 [00:10<01:51,  1.19s/it]"
          ]
        },
        {
          "output_type": "stream",
          "name": "stdout",
          "text": [
            "original question was:  What is the id of portfolioE?\n",
            "generated sql was:  SELECT portfolio_id FROM portfolios WHERE portfolio = 'portfolioE';\n",
            "actual answer was:  5\n",
            "hello\n",
            "sqlite answer was:  5\n",
            "Easy Q&A Accuracy: 100.00%\n",
            "Easy SQL Execution Error Rate:  0.0\n"
          ]
        },
        {
          "output_type": "stream",
          "name": "stderr",
          "text": [
            "\r  7%|▋         | 7/100 [00:11<01:41,  1.10s/it]"
          ]
        },
        {
          "output_type": "stream",
          "name": "stdout",
          "text": [
            "original question was:  how many unique tickers are there in the holdings?\n",
            "generated sql was:  SELECT COUNT(DISTINCT ticker) FROM portfolio_holdings;\n",
            "actual answer was:  8\n",
            "hello\n",
            "sqlite answer was:  8\n",
            "Easy Q&A Accuracy: 100.00%\n",
            "Easy SQL Execution Error Rate:  0.0\n"
          ]
        },
        {
          "output_type": "stream",
          "name": "stderr",
          "text": [
            "\r  8%|▊         | 8/100 [00:12<01:39,  1.08s/it]"
          ]
        },
        {
          "output_type": "stream",
          "name": "stdout",
          "text": [
            "original question was:  what is the count of holdings in AAPL historically?\n",
            "generated sql was:  SELECT COUNT(*) FROM portfolio_holdings WHERE ticker = 'AAPL';\n",
            "actual answer was:  2\n",
            "hello\n",
            "sqlite answer was:  2\n",
            "Easy Q&A Accuracy: 100.00%\n",
            "Easy SQL Execution Error Rate:  0.0\n"
          ]
        },
        {
          "output_type": "stream",
          "name": "stderr",
          "text": [
            "\r  9%|▉         | 9/100 [00:12<01:31,  1.01s/it]"
          ]
        },
        {
          "output_type": "stream",
          "name": "stdout",
          "text": [
            "original question was:  how many different portfolio owners are there?\n",
            "generated sql was:  SELECT COUNT(DISTINCT portfolio_owner) FROM portfolios;\n",
            "actual answer was:  5\n",
            "hello\n",
            "sqlite answer was:  5\n",
            "Easy Q&A Accuracy: 100.00%\n",
            "Easy SQL Execution Error Rate:  0.0\n"
          ]
        },
        {
          "output_type": "stream",
          "name": "stderr",
          "text": [
            "\r 10%|█         | 10/100 [00:17<02:58,  1.98s/it]You seem to be using the pipelines sequentially on GPU. In order to maximize efficiency please use a dataset\n"
          ]
        },
        {
          "output_type": "stream",
          "name": "stdout",
          "text": [
            "original question was:  what stock did portfolioB  have 200 shares of on Aug 1, 2024?\n",
            "generated sql was:  SELECT ph.ticker FROM portfolio_holdings ph JOIN portfolios p ON ph.portfolio_id = p.portfolio_id JOIN stock_prices sp ON ph.ticker = sp.ticker WHERE p.portfolio_owner = 'portfolioB' AND ph.shares = 200 AND ph.date = '2024-08-01';\n",
            "actual answer was:  BAC\n",
            "hello\n",
            "An unexpected error occurred: list index out of range\n",
            "sqlite answer was:  error\n",
            "Easy Q&A Accuracy: 100.00%\n",
            "Easy SQL Execution Error Rate:  0.0\n",
            "Med/Hard Q&A Accuracy: 0.00%\n",
            "Med/Hard SQL Execution Error Rate:  1.0\n"
          ]
        },
        {
          "output_type": "stream",
          "name": "stderr",
          "text": [
            "\r 11%|█         | 11/100 [00:20<03:28,  2.34s/it]"
          ]
        },
        {
          "output_type": "stream",
          "name": "stdout",
          "text": [
            "original question was:  on how many different days was AAPL held?\n",
            "generated sql was:  SELECT COUNT(DISTINCT ph.date) FROM portfolio_holdings ph JOIN portfolios p ON ph.portfolio_id = p.portfolio_id JOIN stock_prices sp ON ph.ticker = sp.ticker WHERE ph.ticker = 'AAPL';\n",
            "actual answer was:  2\n",
            "hello\n",
            "sqlite answer was:  2\n",
            "Easy Q&A Accuracy: 100.00%\n",
            "Easy SQL Execution Error Rate:  0.0\n",
            "Med/Hard Q&A Accuracy: 50.00%\n",
            "Med/Hard SQL Execution Error Rate:  0.5\n"
          ]
        },
        {
          "output_type": "stream",
          "name": "stderr",
          "text": [
            "\r 12%|█▏        | 12/100 [00:24<04:08,  2.83s/it]"
          ]
        },
        {
          "output_type": "stream",
          "name": "stdout",
          "text": [
            "original question was:  How many stocks did portfolioA hold on August 1, 2024?\n",
            "generated sql was:  SELECT COUNT(*) FROM portfolio_holdings JOIN portfolios ON portfolio_holdings.portfolio_id = portfolios.portfolio_id JOIN stock_prices ON portfolio_holdings.ticker = stock_prices.ticker WHERE portfolios.portfolio_owner = 'portfolioA' AND portfolio_holdings.date = '2024-08-01';\n",
            "actual answer was:  2\n",
            "hello\n",
            "sqlite answer was:  0\n",
            "Easy Q&A Accuracy: 100.00%\n",
            "Easy SQL Execution Error Rate:  0.0\n",
            "Med/Hard Q&A Accuracy: 33.33%\n",
            "Med/Hard SQL Execution Error Rate:  0.3333333333333333\n"
          ]
        },
        {
          "output_type": "stream",
          "name": "stderr",
          "text": [
            "\r 13%|█▎        | 13/100 [00:28<04:55,  3.40s/it]"
          ]
        },
        {
          "output_type": "stream",
          "name": "stdout",
          "text": [
            "original question was:  How many shares of BAC did portfolioB hold on August 1, 2024?\n",
            "generated sql was:  SELECT SUM(php.shares * sp.price) FROM portfolios p JOIN portfolio_holdings php ON p.portfolio_id = php.portfolio_id JOIN stock_prices sp ON php.ticker = sp.ticker WHERE p.portfolio_owner = 'portfolioB' AND php.date = '2024-08-01' AND php.ticker = 'BAC';\n",
            "actual answer was:  200\n",
            "hello\n",
            "sqlite answer was:  0\n",
            "Easy Q&A Accuracy: 100.00%\n",
            "Easy SQL Execution Error Rate:  0.0\n",
            "Med/Hard Q&A Accuracy: 25.00%\n",
            "Med/Hard SQL Execution Error Rate:  0.25\n"
          ]
        },
        {
          "output_type": "stream",
          "name": "stderr",
          "text": [
            "\r 14%|█▍        | 14/100 [00:32<05:02,  3.51s/it]"
          ]
        },
        {
          "output_type": "stream",
          "name": "stdout",
          "text": [
            "original question was:  what is the portfolio name of the portfolio that held TSLA on August 1, 2024?\n",
            "generated sql was:  SELECT p.portfolio FROM portfolios p JOIN portfolio_holdings ph ON p.portfolio_id = ph.portfolio_id JOIN stock_prices sp ON ph.ticker = sp.ticker WHERE ph.date = '2024-08-01' AND sp.ticker = 'TSLA';\n",
            "actual answer was:  portfolioC\n",
            "hello\n",
            "An unexpected error occurred: list index out of range\n",
            "sqlite answer was:  error\n",
            "Easy Q&A Accuracy: 100.00%\n",
            "Easy SQL Execution Error Rate:  0.0\n",
            "Med/Hard Q&A Accuracy: 20.00%\n",
            "Med/Hard SQL Execution Error Rate:  0.4\n"
          ]
        },
        {
          "output_type": "stream",
          "name": "stderr",
          "text": [
            "\r 15%|█▌        | 15/100 [00:37<05:24,  3.82s/it]"
          ]
        },
        {
          "output_type": "stream",
          "name": "stdout",
          "text": [
            "original question was:  How many shares of MSFT did Xiao hold on Jan 1, 2024?\n",
            "generated sql was:  SELECT SUM(php.shares) FROM portfolios p JOIN portfolio_holdings php ON p.portfolio_id = php.portfolio_id JOIN stock_prices sp ON php.ticker = sp.ticker WHERE p.portfolio_owner = 'Xiao' AND php.date = '2024-01-01' AND sp.ticker = 'MSFT';\n",
            "actual answer was:  123\n",
            "hello\n",
            "sqlite answer was:  0\n",
            "Easy Q&A Accuracy: 100.00%\n",
            "Easy SQL Execution Error Rate:  0.0\n",
            "Med/Hard Q&A Accuracy: 16.67%\n",
            "Med/Hard SQL Execution Error Rate:  0.3333333333333333\n"
          ]
        },
        {
          "output_type": "stream",
          "name": "stderr",
          "text": [
            "\r 16%|█▌        | 16/100 [00:41<05:42,  4.08s/it]"
          ]
        },
        {
          "output_type": "stream",
          "name": "stdout",
          "text": [
            "original question was:  How many shares of XOM did Chun have on Jan 1, 2024?\n",
            "generated sql was:  SELECT SUM(php.shares * sp.price) FROM portfolios p JOIN portfolio_holdings php ON p.portfolio_id = php.portfolio_id JOIN stock_prices sp ON php.ticker = sp.ticker WHERE p.portfolio_owner = 'Chun' AND php.date = '2024-01-01' AND php.ticker = 'XOM';\n",
            "actual answer was:  222\n",
            "hello\n",
            "sqlite answer was:  0\n",
            "Easy Q&A Accuracy: 100.00%\n",
            "Easy SQL Execution Error Rate:  0.0\n",
            "Med/Hard Q&A Accuracy: 14.29%\n",
            "Med/Hard SQL Execution Error Rate:  0.2857142857142857\n"
          ]
        },
        {
          "output_type": "stream",
          "name": "stderr",
          "text": [
            "\r 17%|█▋        | 17/100 [00:43<04:37,  3.34s/it]"
          ]
        },
        {
          "output_type": "stream",
          "name": "stdout",
          "text": [
            "original question was:  What was the price of AAPL on Jan 2, 2024\n",
            "generated sql was:  SELECT price FROM stock_prices WHERE date = '2024-01-02' AND ticker = 'AAPL';\n",
            "actual answer was:  185\n",
            "hello\n",
            "sqlite answer was:  185\n",
            "Easy Q&A Accuracy: 100.00%\n",
            "Easy SQL Execution Error Rate:  0.0\n",
            "Med/Hard Q&A Accuracy: 14.29%\n",
            "Med/Hard SQL Execution Error Rate:  0.2857142857142857\n"
          ]
        },
        {
          "output_type": "stream",
          "name": "stderr",
          "text": [
            "\r 18%|█▊        | 18/100 [00:45<03:52,  2.83s/it]"
          ]
        },
        {
          "output_type": "stream",
          "name": "stdout",
          "text": [
            "original question was:  what was the price of GOOG on Jan 31, 2024?\n",
            "generated sql was:  SELECT price FROM stock_prices WHERE date = '2024-01-31' AND ticker = 'GOOG';\n",
            "actual answer was:  141\n",
            "hello\n",
            "sqlite answer was:  141\n",
            "Easy Q&A Accuracy: 100.00%\n",
            "Easy SQL Execution Error Rate:  0.0\n",
            "Med/Hard Q&A Accuracy: 14.29%\n",
            "Med/Hard SQL Execution Error Rate:  0.2857142857142857\n"
          ]
        },
        {
          "output_type": "stream",
          "name": "stderr",
          "text": [
            "\r 19%|█▉        | 19/100 [00:46<03:19,  2.47s/it]"
          ]
        },
        {
          "output_type": "stream",
          "name": "stdout",
          "text": [
            "original question was:  what was the price of MSFT on May 3, 2024\n",
            "generated sql was:  SELECT price FROM stock_prices WHERE date = '2024-05-03' AND ticker = 'MSFT';\n",
            "actual answer was:  405\n",
            "hello\n",
            "sqlite answer was:  405\n",
            "Easy Q&A Accuracy: 100.00%\n",
            "Easy SQL Execution Error Rate:  0.0\n",
            "Med/Hard Q&A Accuracy: 14.29%\n",
            "Med/Hard SQL Execution Error Rate:  0.2857142857142857\n"
          ]
        },
        {
          "output_type": "stream",
          "name": "stderr",
          "text": [
            "\r 20%|██        | 20/100 [00:48<02:57,  2.22s/it]"
          ]
        },
        {
          "output_type": "stream",
          "name": "stdout",
          "text": [
            "original question was:  what was the price of MSFT on April 3rd\n",
            "generated sql was:  SELECT price FROM stock_prices WHERE date = '2022-04-03' AND ticker = 'MSFT';\n",
            "actual answer was:  419\n",
            "hello\n",
            "An unexpected error occurred: list index out of range\n",
            "sqlite answer was:  error\n",
            "Easy Q&A Accuracy: 92.31%\n",
            "Easy SQL Execution Error Rate:  0.07692307692307693\n",
            "Med/Hard Q&A Accuracy: 14.29%\n",
            "Med/Hard SQL Execution Error Rate:  0.2857142857142857\n"
          ]
        },
        {
          "output_type": "stream",
          "name": "stderr",
          "text": [
            "\r 21%|██        | 21/100 [00:50<02:40,  2.04s/it]"
          ]
        },
        {
          "output_type": "stream",
          "name": "stdout",
          "text": [
            "original question was:  what was the stock price of microsoft on April 3rd\n",
            "generated sql was:  SELECT price FROM stock_prices WHERE date = '2022-04-03' AND ticker = 'MSFT';\n",
            "actual answer was:  419\n",
            "hello\n",
            "An unexpected error occurred: list index out of range\n",
            "sqlite answer was:  error\n",
            "Easy Q&A Accuracy: 85.71%\n",
            "Easy SQL Execution Error Rate:  0.14285714285714285\n",
            "Med/Hard Q&A Accuracy: 14.29%\n",
            "Med/Hard SQL Execution Error Rate:  0.2857142857142857\n"
          ]
        },
        {
          "output_type": "stream",
          "name": "stderr",
          "text": [
            "\r 22%|██▏       | 22/100 [00:51<02:29,  1.92s/it]"
          ]
        },
        {
          "output_type": "stream",
          "name": "stdout",
          "text": [
            "original question was:  what was the price of Apple stock on jan 2, 2024\n",
            "generated sql was:  SELECT price FROM stock_prices WHERE date = '2024-01-02' AND ticker = 'AAPL';\n",
            "actual answer was:  185\n",
            "hello\n",
            "sqlite answer was:  185\n",
            "Easy Q&A Accuracy: 86.67%\n",
            "Easy SQL Execution Error Rate:  0.13333333333333333\n",
            "Med/Hard Q&A Accuracy: 14.29%\n",
            "Med/Hard SQL Execution Error Rate:  0.2857142857142857\n"
          ]
        },
        {
          "output_type": "stream",
          "name": "stderr",
          "text": [
            "\r 23%|██▎       | 23/100 [00:53<02:20,  1.82s/it]"
          ]
        },
        {
          "output_type": "stream",
          "name": "stdout",
          "text": [
            "original question was:  what was the price of google on jan 31, 2024\n",
            "generated sql was:  SELECT price FROM stock_prices WHERE date = '2024-01-31' AND ticker = 'GOOG';\n",
            "actual answer was:  141\n",
            "hello\n",
            "sqlite answer was:  141\n",
            "Easy Q&A Accuracy: 87.50%\n",
            "Easy SQL Execution Error Rate:  0.125\n",
            "Med/Hard Q&A Accuracy: 14.29%\n",
            "Med/Hard SQL Execution Error Rate:  0.2857142857142857\n"
          ]
        },
        {
          "output_type": "stream",
          "name": "stderr",
          "text": [
            "\r 24%|██▍       | 24/100 [01:01<04:48,  3.80s/it]"
          ]
        },
        {
          "output_type": "stream",
          "name": "stdout",
          "text": [
            "original question was:  was the stock price of AAPL higher or lower the day after jan 31, 2024?\n",
            "generated sql was:  SELECT 'higher' as price_trend FROM stock_prices sp1 INNER JOIN stock_prices sp2 ON sp1.ticker = sp2.ticker WHERE sp1.date = '2024-01-31' AND sp2.date = '2024-02-01' AND sp1.price < sp2.price UNION SELECT 'lower' as price_trend FROM stock_prices sp1 INNER JOIN stock_prices sp2 ON sp1.ticker = sp2.ticker WHERE sp1.date = '2024-01-31' AND sp2.date = '2024-02-01' AND sp1.price > sp2.price;\n",
            "actual answer was:  higher\n",
            "hello\n",
            "sqlite answer was:  higher\n",
            "Easy Q&A Accuracy: 87.50%\n",
            "Easy SQL Execution Error Rate:  0.125\n",
            "Med/Hard Q&A Accuracy: 25.00%\n",
            "Med/Hard SQL Execution Error Rate:  0.25\n"
          ]
        },
        {
          "output_type": "stream",
          "name": "stderr",
          "text": [
            "\r 25%|██▌       | 25/100 [01:02<03:42,  2.97s/it]"
          ]
        },
        {
          "output_type": "stream",
          "name": "stdout",
          "text": [
            "original question was:  How many portfolio owners are named Chun Li in this firm?\n",
            "generated sql was:  SELECT COUNT(*) FROM portfolios WHERE portfolio_owner = 'Chun Li';\n",
            "actual answer was:  1\n",
            "hello\n",
            "sqlite answer was:  1\n",
            "Easy Q&A Accuracy: 88.24%\n",
            "Easy SQL Execution Error Rate:  0.11764705882352941\n",
            "Med/Hard Q&A Accuracy: 25.00%\n",
            "Med/Hard SQL Execution Error Rate:  0.25\n"
          ]
        },
        {
          "output_type": "stream",
          "name": "stderr",
          "text": [
            "\r 26%|██▌       | 26/100 [01:03<02:56,  2.39s/it]"
          ]
        },
        {
          "output_type": "stream",
          "name": "stdout",
          "text": [
            "original question was:  How many people are named Chun Li in this firm?\n",
            "generated sql was:  SELECT COUNT(*) FROM portfolios WHERE portfolio_owner = 'Chun Li';\n",
            "actual answer was:  1\n",
            "hello\n",
            "sqlite answer was:  1\n",
            "Easy Q&A Accuracy: 88.24%\n",
            "Easy SQL Execution Error Rate:  0.11764705882352941\n",
            "Med/Hard Q&A Accuracy: 33.33%\n",
            "Med/Hard SQL Execution Error Rate:  0.2222222222222222\n"
          ]
        },
        {
          "output_type": "stream",
          "name": "stderr",
          "text": [
            "\r 27%|██▋       | 27/100 [01:04<02:23,  1.96s/it]"
          ]
        },
        {
          "output_type": "stream",
          "name": "stdout",
          "text": [
            "original question was:  How many owner's names start with the letter C?\n",
            "generated sql was:  SELECT COUNT(*) FROM portfolios WHERE portfolio_owner LIKE 'C%';\n",
            "actual answer was:  1\n",
            "hello\n",
            "sqlite answer was:  1\n",
            "Easy Q&A Accuracy: 88.89%\n",
            "Easy SQL Execution Error Rate:  0.1111111111111111\n",
            "Med/Hard Q&A Accuracy: 33.33%\n",
            "Med/Hard SQL Execution Error Rate:  0.2222222222222222\n"
          ]
        },
        {
          "output_type": "stream",
          "name": "stderr",
          "text": [
            "\r 28%|██▊       | 28/100 [01:05<02:00,  1.67s/it]"
          ]
        },
        {
          "output_type": "stream",
          "name": "stdout",
          "text": [
            "original question was:  How many owner's names start with the letter J?\n",
            "generated sql was:  SELECT COUNT(*) FROM portfolios WHERE portfolio_owner LIKE 'J%';\n",
            "actual answer was:  3\n",
            "hello\n",
            "sqlite answer was:  3\n",
            "Easy Q&A Accuracy: 89.47%\n",
            "Easy SQL Execution Error Rate:  0.10526315789473684\n",
            "Med/Hard Q&A Accuracy: 33.33%\n",
            "Med/Hard SQL Execution Error Rate:  0.2222222222222222\n"
          ]
        },
        {
          "output_type": "stream",
          "name": "stderr",
          "text": [
            "\r 29%|██▉       | 29/100 [01:06<01:42,  1.44s/it]"
          ]
        },
        {
          "output_type": "stream",
          "name": "stdout",
          "text": [
            "original question was:  who is the owner of portfolioC?\n",
            "generated sql was:  SELECT portfolio_owner FROM portfolios WHERE portfolio = 'portfolioC';\n",
            "actual answer was:  Jen Stevens\n",
            "hello\n",
            "sqlite answer was:  Jen Stevens\n",
            "Easy Q&A Accuracy: 90.00%\n",
            "Easy SQL Execution Error Rate:  0.1\n",
            "Med/Hard Q&A Accuracy: 33.33%\n",
            "Med/Hard SQL Execution Error Rate:  0.2222222222222222\n"
          ]
        },
        {
          "output_type": "stream",
          "name": "stderr",
          "text": [
            "\r 30%|███       | 30/100 [01:07<01:30,  1.29s/it]"
          ]
        },
        {
          "output_type": "stream",
          "name": "stdout",
          "text": [
            "original question was:  who is the manager of portfolioC?\n",
            "generated sql was:  SELECT portfolio_owner FROM portfolios WHERE portfolio = 'portfolioC';\n",
            "actual answer was:  Jen Stevens\n",
            "hello\n",
            "sqlite answer was:  Jen Stevens\n",
            "Easy Q&A Accuracy: 90.48%\n",
            "Easy SQL Execution Error Rate:  0.09523809523809523\n",
            "Med/Hard Q&A Accuracy: 33.33%\n",
            "Med/Hard SQL Execution Error Rate:  0.2222222222222222\n"
          ]
        },
        {
          "output_type": "stream",
          "name": "stderr",
          "text": [
            "\r 31%|███       | 31/100 [01:08<01:20,  1.17s/it]"
          ]
        },
        {
          "output_type": "stream",
          "name": "stdout",
          "text": [
            "original question was:  who is the owner of portfolioB?\n",
            "generated sql was:  SELECT portfolio_owner FROM portfolios WHERE portfolio = 'portfolioB';\n",
            "actual answer was:  Jack Brody\n",
            "hello\n",
            "sqlite answer was:  Jack Brody\n",
            "Easy Q&A Accuracy: 90.91%\n",
            "Easy SQL Execution Error Rate:  0.09090909090909091\n",
            "Med/Hard Q&A Accuracy: 33.33%\n",
            "Med/Hard SQL Execution Error Rate:  0.2222222222222222\n"
          ]
        },
        {
          "output_type": "stream",
          "name": "stderr",
          "text": [
            "\r 32%|███▏      | 32/100 [01:09<01:14,  1.10s/it]"
          ]
        },
        {
          "output_type": "stream",
          "name": "stdout",
          "text": [
            "original question was:  who is the manager of portfolioB?\n",
            "generated sql was:  SELECT portfolio_owner FROM portfolios WHERE portfolio = 'portfolioB';\n",
            "actual answer was:  Jack Brody\n",
            "hello\n",
            "sqlite answer was:  Jack Brody\n",
            "Easy Q&A Accuracy: 91.30%\n",
            "Easy SQL Execution Error Rate:  0.08695652173913043\n",
            "Med/Hard Q&A Accuracy: 33.33%\n",
            "Med/Hard SQL Execution Error Rate:  0.2222222222222222\n"
          ]
        },
        {
          "output_type": "stream",
          "name": "stderr",
          "text": [
            "\r 33%|███▎      | 33/100 [01:10<01:09,  1.04s/it]"
          ]
        },
        {
          "output_type": "stream",
          "name": "stdout",
          "text": [
            "original question was:  who owns portfolio C?\n",
            "generated sql was:  SELECT portfolio_owner FROM portfolios WHERE portfolio = 'C';\n",
            "actual answer was:  Jen Stevens\n",
            "hello\n",
            "An unexpected error occurred: list index out of range\n",
            "sqlite answer was:  error\n",
            "Easy Q&A Accuracy: 87.50%\n",
            "Easy SQL Execution Error Rate:  0.125\n",
            "Med/Hard Q&A Accuracy: 33.33%\n",
            "Med/Hard SQL Execution Error Rate:  0.2222222222222222\n"
          ]
        },
        {
          "output_type": "stream",
          "name": "stderr",
          "text": [
            "\r 34%|███▍      | 34/100 [01:11<01:04,  1.02it/s]"
          ]
        },
        {
          "output_type": "stream",
          "name": "stdout",
          "text": [
            "original question was:  who manages portfolio C?\n",
            "generated sql was:  SELECT portfolio_owner FROM portfolios WHERE portfolio = 'C';\n",
            "actual answer was:  Jen Stevens\n",
            "hello\n",
            "An unexpected error occurred: list index out of range\n",
            "sqlite answer was:  error\n",
            "Easy Q&A Accuracy: 84.00%\n",
            "Easy SQL Execution Error Rate:  0.16\n",
            "Med/Hard Q&A Accuracy: 33.33%\n",
            "Med/Hard SQL Execution Error Rate:  0.2222222222222222\n"
          ]
        },
        {
          "output_type": "stream",
          "name": "stderr",
          "text": [
            "\r 35%|███▌      | 35/100 [01:12<01:20,  1.24s/it]"
          ]
        },
        {
          "output_type": "stream",
          "name": "stdout",
          "text": [
            "original question was:  does anyone with the partial name 'Doe' own a portfolio?\n",
            "generated sql was:  SELECT 'Yes' FROM portfolios WHERE portfolio_owner LIKE '%Doe%' GROUP BY (1) HAVING COUNT(*) > 0;\n",
            "actual answer was:  John Doe\n",
            "hello\n",
            "sqlite answer was:  Yes\n",
            "Easy Q&A Accuracy: 80.77%\n",
            "Easy SQL Execution Error Rate:  0.15384615384615385\n",
            "Med/Hard Q&A Accuracy: 33.33%\n",
            "Med/Hard SQL Execution Error Rate:  0.2222222222222222\n"
          ]
        },
        {
          "output_type": "stream",
          "name": "stderr",
          "text": [
            "\r 36%|███▌      | 36/100 [01:13<01:11,  1.12s/it]"
          ]
        },
        {
          "output_type": "stream",
          "name": "stdout",
          "text": [
            "original question was:  what is the age of portfolioC?\n",
            "generated sql was:  SELECT age FROM portfolios WHERE portfolio = 'portfolioC';\n",
            "actual answer was:  38\n",
            "hello\n",
            "sqlite answer was:  38\n",
            "Easy Q&A Accuracy: 81.48%\n",
            "Easy SQL Execution Error Rate:  0.14814814814814814\n",
            "Med/Hard Q&A Accuracy: 33.33%\n",
            "Med/Hard SQL Execution Error Rate:  0.2222222222222222\n"
          ]
        },
        {
          "output_type": "stream",
          "name": "stderr",
          "text": [
            "\r 37%|███▋      | 37/100 [01:14<01:07,  1.08s/it]"
          ]
        },
        {
          "output_type": "stream",
          "name": "stdout",
          "text": [
            "original question was:  what is the age of Jen Stevens?\n",
            "generated sql was:  SELECT age FROM portfolios WHERE portfolio_owner = 'Jen Stevens';\n",
            "actual answer was:  38\n",
            "hello\n",
            "sqlite answer was:  38\n",
            "Easy Q&A Accuracy: 82.14%\n",
            "Easy SQL Execution Error Rate:  0.14285714285714285\n",
            "Med/Hard Q&A Accuracy: 33.33%\n",
            "Med/Hard SQL Execution Error Rate:  0.2222222222222222\n"
          ]
        },
        {
          "output_type": "stream",
          "name": "stderr",
          "text": [
            "\r 38%|███▊      | 38/100 [01:15<01:02,  1.01s/it]"
          ]
        },
        {
          "output_type": "stream",
          "name": "stdout",
          "text": [
            "original question was:  how old is portfolioB?\n",
            "generated sql was:  SELECT age FROM portfolios WHERE portfolio = 'portfolioB';\n",
            "actual answer was:  43\n",
            "hello\n",
            "sqlite answer was:  43\n",
            "Easy Q&A Accuracy: 82.76%\n",
            "Easy SQL Execution Error Rate:  0.13793103448275862\n",
            "Med/Hard Q&A Accuracy: 33.33%\n",
            "Med/Hard SQL Execution Error Rate:  0.2222222222222222\n"
          ]
        },
        {
          "output_type": "stream",
          "name": "stderr",
          "text": [
            "\r 39%|███▉      | 39/100 [01:16<01:00,  1.01it/s]"
          ]
        },
        {
          "output_type": "stream",
          "name": "stdout",
          "text": [
            "original question was:  how old is Chun Li?\n",
            "generated sql was:  SELECT age FROM portfolios WHERE portfolio_owner = 'Chun Li';\n",
            "actual answer was:  59\n",
            "hello\n",
            "sqlite answer was:  59\n",
            "Easy Q&A Accuracy: 83.33%\n",
            "Easy SQL Execution Error Rate:  0.13333333333333333\n",
            "Med/Hard Q&A Accuracy: 33.33%\n",
            "Med/Hard SQL Execution Error Rate:  0.2222222222222222\n"
          ]
        },
        {
          "output_type": "stream",
          "name": "stderr",
          "text": [
            "\r 40%|████      | 40/100 [01:17<00:52,  1.15it/s]"
          ]
        },
        {
          "output_type": "stream",
          "name": "stdout",
          "text": [
            "original question was:  what is the sum of ages of all portfolios?\n",
            "generated sql was:  SELECT SUM(age) FROM portfolios;\n",
            "actual answer was:  210\n",
            "hello\n",
            "sqlite answer was:  210\n",
            "Easy Q&A Accuracy: 83.87%\n",
            "Easy SQL Execution Error Rate:  0.12903225806451613\n",
            "Med/Hard Q&A Accuracy: 33.33%\n",
            "Med/Hard SQL Execution Error Rate:  0.2222222222222222\n"
          ]
        },
        {
          "output_type": "stream",
          "name": "stderr",
          "text": [
            "\r 41%|████      | 41/100 [01:18<00:58,  1.02it/s]"
          ]
        },
        {
          "output_type": "stream",
          "name": "stdout",
          "text": [
            "original question was:  what is the minimum portfolio age?\n",
            "generated sql was:  SELECT MIN(DATEDIFF('now',portfolios.date_of_birth)) FROM portfolios;\n",
            "actual answer was:  25\n",
            "SQL execution error: no such function: DATEDIFF\n",
            "sqlite answer was:  error\n",
            "Easy Q&A Accuracy: 81.25%\n",
            "Easy SQL Execution Error Rate:  0.15625\n",
            "Med/Hard Q&A Accuracy: 33.33%\n",
            "Med/Hard SQL Execution Error Rate:  0.2222222222222222\n"
          ]
        },
        {
          "output_type": "stream",
          "name": "stderr",
          "text": [
            "\r 42%|████▏     | 42/100 [01:19<01:01,  1.06s/it]"
          ]
        },
        {
          "output_type": "stream",
          "name": "stdout",
          "text": [
            "original question was:  what is the maximum portfolio age?\n",
            "generated sql was:  SELECT MAX(DATEDIFF('now',portfolios.date_of_birth)) FROM portfolios;\n",
            "actual answer was:  59\n",
            "SQL execution error: no such function: DATEDIFF\n",
            "sqlite answer was:  error\n",
            "Easy Q&A Accuracy: 78.79%\n",
            "Easy SQL Execution Error Rate:  0.18181818181818182\n",
            "Med/Hard Q&A Accuracy: 33.33%\n",
            "Med/Hard SQL Execution Error Rate:  0.2222222222222222\n"
          ]
        },
        {
          "output_type": "stream",
          "name": "stderr",
          "text": [
            "\r 43%|████▎     | 43/100 [01:22<01:35,  1.68s/it]"
          ]
        },
        {
          "output_type": "stream",
          "name": "stdout",
          "text": [
            "original question was:  what is the second highest portfolio age?\n",
            "generated sql was:  SELECT MAX(age) FROM (SELECT YEAR(CURRENT_DATE) - YEAR(portfolio_owner.birthday) AS age FROM portfolios WHERE portfolio = 'Growth' GROUP BY age ORDER BY age DESC LIMIT 2) AS subquery;\n",
            "actual answer was:  45\n",
            "SQL execution error: no such column: portfolio_owner.birthday\n",
            "sqlite answer was:  error\n",
            "Easy Q&A Accuracy: 78.79%\n",
            "Easy SQL Execution Error Rate:  0.18181818181818182\n",
            "Med/Hard Q&A Accuracy: 30.00%\n",
            "Med/Hard SQL Execution Error Rate:  0.3\n"
          ]
        },
        {
          "output_type": "stream",
          "name": "stderr",
          "text": [
            "\r 44%|████▍     | 44/100 [01:24<01:36,  1.71s/it]"
          ]
        },
        {
          "output_type": "stream",
          "name": "stdout",
          "text": [
            "original question was:  what is the second lowest portfolio age?\n",
            "generated sql was:  SELECT MIN(age) FROM (SELECT age FROM portfolios WHERE age > (SELECT MIN(age) FROM portfolios) ) AS subquery;\n",
            "actual answer was:  38\n",
            "hello\n",
            "sqlite answer was:  38\n",
            "Easy Q&A Accuracy: 78.79%\n",
            "Easy SQL Execution Error Rate:  0.18181818181818182\n",
            "Med/Hard Q&A Accuracy: 36.36%\n",
            "Med/Hard SQL Execution Error Rate:  0.2727272727272727\n"
          ]
        },
        {
          "output_type": "stream",
          "name": "stderr",
          "text": [
            "\r 45%|████▌     | 45/100 [01:25<01:26,  1.57s/it]"
          ]
        },
        {
          "output_type": "stream",
          "name": "stdout",
          "text": [
            "original question was:  what is the average portfolio age?\n",
            "generated sql was:  SELECT AVG(DATEDIFF('now',portfolios.date_of_birth)) FROM portfolios;\n",
            "actual answer was:  42\n",
            "SQL execution error: no such function: DATEDIFF\n",
            "sqlite answer was:  error\n",
            "Easy Q&A Accuracy: 76.47%\n",
            "Easy SQL Execution Error Rate:  0.20588235294117646\n",
            "Med/Hard Q&A Accuracy: 36.36%\n",
            "Med/Hard SQL Execution Error Rate:  0.2727272727272727\n"
          ]
        },
        {
          "output_type": "stream",
          "name": "stderr",
          "text": [
            "\r 46%|████▌     | 46/100 [01:26<01:16,  1.41s/it]"
          ]
        },
        {
          "output_type": "stream",
          "name": "stdout",
          "text": [
            "original question was:  Does anyone with the partial name 'Chun' run a portfolio?\n",
            "generated sql was:  SELECT portfolio_owner FROM portfolios WHERE portfolio_owner LIKE '%Chun%';\n",
            "actual answer was:  Chun Li\n",
            "hello\n",
            "sqlite answer was:  Chun Li\n",
            "Easy Q&A Accuracy: 77.14%\n",
            "Easy SQL Execution Error Rate:  0.2\n",
            "Med/Hard Q&A Accuracy: 36.36%\n",
            "Med/Hard SQL Execution Error Rate:  0.2727272727272727\n"
          ]
        },
        {
          "output_type": "stream",
          "name": "stderr",
          "text": [
            "\r 47%|████▋     | 47/100 [01:27<01:07,  1.28s/it]"
          ]
        },
        {
          "output_type": "stream",
          "name": "stdout",
          "text": [
            "original question was:  Does anyone with the partial name Steve run a portfolio?\n",
            "generated sql was:  SELECT portfolio_owner FROM portfolios WHERE portfolio_owner LIKE '%Steve%';\n",
            "actual answer was:  Jen Stevens\n",
            "hello\n",
            "sqlite answer was:  Jen Stevens\n",
            "Easy Q&A Accuracy: 77.78%\n",
            "Easy SQL Execution Error Rate:  0.19444444444444445\n",
            "Med/Hard Q&A Accuracy: 36.36%\n",
            "Med/Hard SQL Execution Error Rate:  0.2727272727272727\n"
          ]
        },
        {
          "output_type": "stream",
          "name": "stderr",
          "text": [
            "\r 48%|████▊     | 48/100 [01:29<01:11,  1.38s/it]"
          ]
        },
        {
          "output_type": "stream",
          "name": "stdout",
          "text": [
            "original question was:  What is the price of AAPL on Jan 30 2024\n",
            "generated sql was:  SELECT price FROM stock_prices WHERE date = '2024-01-30' AND ticker = 'AAPL';\n",
            "actual answer was:  187\n",
            "hello\n",
            "sqlite answer was:  187\n",
            "Easy Q&A Accuracy: 78.38%\n",
            "Easy SQL Execution Error Rate:  0.1891891891891892\n",
            "Med/Hard Q&A Accuracy: 36.36%\n",
            "Med/Hard SQL Execution Error Rate:  0.2727272727272727\n"
          ]
        },
        {
          "output_type": "stream",
          "name": "stderr",
          "text": [
            "\r 49%|████▉     | 49/100 [01:30<01:14,  1.45s/it]"
          ]
        },
        {
          "output_type": "stream",
          "name": "stdout",
          "text": [
            "original question was:  What was AAPL's price on the last day of April in 2024\n",
            "generated sql was:  SELECT price FROM stock_prices WHERE date = '2024-04-30' AND ticker = 'AAPL';\n",
            "actual answer was:  170\n",
            "hello\n",
            "sqlite answer was:  170\n",
            "Easy Q&A Accuracy: 78.95%\n",
            "Easy SQL Execution Error Rate:  0.18421052631578946\n",
            "Med/Hard Q&A Accuracy: 36.36%\n",
            "Med/Hard SQL Execution Error Rate:  0.2727272727272727\n"
          ]
        },
        {
          "output_type": "stream",
          "name": "stderr",
          "text": [
            "\r 50%|█████     | 50/100 [01:32<01:16,  1.52s/it]"
          ]
        },
        {
          "output_type": "stream",
          "name": "stdout",
          "text": [
            "original question was:  What was AAPL's price on the first day of May 2024\n",
            "generated sql was:  SELECT price FROM stock_prices WHERE date = '2024-05-01' AND ticker = 'AAPL';\n",
            "actual answer was:  169\n",
            "hello\n",
            "sqlite answer was:  169\n",
            "Easy Q&A Accuracy: 79.49%\n",
            "Easy SQL Execution Error Rate:  0.1794871794871795\n",
            "Med/Hard Q&A Accuracy: 36.36%\n",
            "Med/Hard SQL Execution Error Rate:  0.2727272727272727\n"
          ]
        },
        {
          "output_type": "stream",
          "name": "stderr",
          "text": [
            "\r 51%|█████     | 51/100 [01:34<01:15,  1.55s/it]"
          ]
        },
        {
          "output_type": "stream",
          "name": "stdout",
          "text": [
            "original question was:  What was GOOG's price on May 1, 2024\n",
            "generated sql was:  SELECT price FROM stock_prices WHERE ticker = 'GOOG' AND date = '2024-05-01';\n",
            "actual answer was:  165\n",
            "hello\n",
            "sqlite answer was:  165\n",
            "Easy Q&A Accuracy: 80.00%\n",
            "Easy SQL Execution Error Rate:  0.175\n",
            "Med/Hard Q&A Accuracy: 36.36%\n",
            "Med/Hard SQL Execution Error Rate:  0.2727272727272727\n"
          ]
        },
        {
          "output_type": "stream",
          "name": "stderr",
          "text": [
            "\r 52%|█████▏    | 52/100 [01:38<01:55,  2.41s/it]"
          ]
        },
        {
          "output_type": "stream",
          "name": "stdout",
          "text": [
            "original question was:  What was MSFT's price on Jan 29, 2024 minus its price on Jan 26, 2024?\n",
            "generated sql was:  SELECT (SP1.price - SP0.price) FROM stock_prices SP0 INNER JOIN stock_prices SP1 ON SP0.ticker = SP1.ticker WHERE SP0.date = '2024-01-26' AND SP1.date = '2024-01-29' AND SP0.ticker = 'MSFT';\n",
            "actual answer was:  5\n",
            "hello\n",
            "sqlite answer was:  5\n",
            "Easy Q&A Accuracy: 80.49%\n",
            "Easy SQL Execution Error Rate:  0.17073170731707318\n",
            "Med/Hard Q&A Accuracy: 36.36%\n",
            "Med/Hard SQL Execution Error Rate:  0.2727272727272727\n"
          ]
        },
        {
          "output_type": "stream",
          "name": "stderr",
          "text": [
            "\r 53%|█████▎    | 53/100 [01:40<01:42,  2.17s/it]"
          ]
        },
        {
          "output_type": "stream",
          "name": "stdout",
          "text": [
            "original question was:  What was MSFT's price on Feb 1 2024\n",
            "generated sql was:  SELECT price FROM stock_prices WHERE date = '2024-02-01' AND ticker = 'MSFT';\n",
            "actual answer was:  402\n",
            "hello\n",
            "sqlite answer was:  402\n",
            "Easy Q&A Accuracy: 80.95%\n",
            "Easy SQL Execution Error Rate:  0.16666666666666666\n",
            "Med/Hard Q&A Accuracy: 36.36%\n",
            "Med/Hard SQL Execution Error Rate:  0.2727272727272727\n"
          ]
        },
        {
          "output_type": "stream",
          "name": "stderr",
          "text": [
            "\r 54%|█████▍    | 54/100 [01:41<01:23,  1.81s/it]"
          ]
        },
        {
          "output_type": "stream",
          "name": "stdout",
          "text": [
            "original question was:  How many prices for MSFT are in the prices table?\n",
            "generated sql was:  SELECT COUNT(*) FROM stock_prices WHERE ticker = 'MSFT';\n",
            "actual answer was:  148\n",
            "hello\n",
            "sqlite answer was:  148\n",
            "Easy Q&A Accuracy: 81.40%\n",
            "Easy SQL Execution Error Rate:  0.16279069767441862\n",
            "Med/Hard Q&A Accuracy: 36.36%\n",
            "Med/Hard SQL Execution Error Rate:  0.2727272727272727\n"
          ]
        },
        {
          "output_type": "stream",
          "name": "stderr",
          "text": [
            "\r 55%|█████▌    | 55/100 [01:42<01:10,  1.56s/it]"
          ]
        },
        {
          "output_type": "stream",
          "name": "stdout",
          "text": [
            "original question was:  How many prices for AAPL are in the database?\n",
            "generated sql was:  SELECT COUNT(*) FROM stock_prices WHERE ticker = 'AAPL';\n",
            "actual answer was:  148\n",
            "hello\n",
            "sqlite answer was:  148\n",
            "Easy Q&A Accuracy: 81.82%\n",
            "Easy SQL Execution Error Rate:  0.1590909090909091\n",
            "Med/Hard Q&A Accuracy: 36.36%\n",
            "Med/Hard SQL Execution Error Rate:  0.2727272727272727\n"
          ]
        },
        {
          "output_type": "stream",
          "name": "stderr",
          "text": [
            "\r 56%|█████▌    | 56/100 [01:42<00:55,  1.27s/it]"
          ]
        },
        {
          "output_type": "stream",
          "name": "stdout",
          "text": [
            "original question was:  What is the total count of prices in the prices table?\n",
            "generated sql was:  SELECT COUNT(*) FROM stock_prices;\n",
            "actual answer was:  445\n",
            "hello\n",
            "sqlite answer was:  445\n",
            "Easy Q&A Accuracy: 82.22%\n",
            "Easy SQL Execution Error Rate:  0.15555555555555556\n",
            "Med/Hard Q&A Accuracy: 36.36%\n",
            "Med/Hard SQL Execution Error Rate:  0.2727272727272727\n"
          ]
        },
        {
          "output_type": "stream",
          "name": "stderr",
          "text": [
            "\r 57%|█████▋    | 57/100 [01:43<00:49,  1.14s/it]"
          ]
        },
        {
          "output_type": "stream",
          "name": "stdout",
          "text": [
            "original question was:  How many unique days are there in the prices table?\n",
            "generated sql was:  SELECT COUNT(DISTINCT date) FROM stock_prices;\n",
            "actual answer was:  148\n",
            "hello\n",
            "sqlite answer was:  149\n",
            "Easy Q&A Accuracy: 80.43%\n",
            "Easy SQL Execution Error Rate:  0.15217391304347827\n",
            "Med/Hard Q&A Accuracy: 36.36%\n",
            "Med/Hard SQL Execution Error Rate:  0.2727272727272727\n"
          ]
        },
        {
          "output_type": "stream",
          "name": "stderr",
          "text": [
            "\r 58%|█████▊    | 58/100 [01:45<00:59,  1.42s/it]"
          ]
        },
        {
          "output_type": "stream",
          "name": "stdout",
          "text": [
            "original question was:  What is the price of MSFT on the most recent day?\n",
            "generated sql was:  SELECT price FROM stock_prices WHERE ticker = 'MSFT' AND date = (SELECT MAX(date) FROM stock_prices WHERE ticker = 'MSFT');\n",
            "actual answer was:  408\n",
            "hello\n",
            "sqlite answer was:  408\n",
            "Easy Q&A Accuracy: 80.85%\n",
            "Easy SQL Execution Error Rate:  0.14893617021276595\n",
            "Med/Hard Q&A Accuracy: 36.36%\n",
            "Med/Hard SQL Execution Error Rate:  0.2727272727272727\n"
          ]
        },
        {
          "output_type": "stream",
          "name": "stderr",
          "text": [
            "\r 59%|█████▉    | 59/100 [01:46<00:48,  1.19s/it]"
          ]
        },
        {
          "output_type": "stream",
          "name": "stdout",
          "text": [
            "original question was:  What is the most recent date in the prices table?\n",
            "generated sql was:  SELECT MAX(date) FROM stock_prices;\n",
            "actual answer was:  8/2/2024\n",
            "hello\n",
            "sqlite answer was:  date\n",
            "Easy Q&A Accuracy: 79.17%\n",
            "Easy SQL Execution Error Rate:  0.14583333333333334\n",
            "Med/Hard Q&A Accuracy: 36.36%\n",
            "Med/Hard SQL Execution Error Rate:  0.2727272727272727\n"
          ]
        },
        {
          "output_type": "stream",
          "name": "stderr",
          "text": [
            "\r 60%|██████    | 60/100 [01:47<00:43,  1.09s/it]"
          ]
        },
        {
          "output_type": "stream",
          "name": "stdout",
          "text": [
            "original question was:  How many unique tickers are there in the prices table?\n",
            "generated sql was:  SELECT COUNT(DISTINCT ticker) FROM stock_prices;\n",
            "actual answer was:  3\n",
            "hello\n",
            "sqlite answer was:  4\n",
            "Easy Q&A Accuracy: 77.55%\n",
            "Easy SQL Execution Error Rate:  0.14285714285714285\n",
            "Med/Hard Q&A Accuracy: 36.36%\n",
            "Med/Hard SQL Execution Error Rate:  0.2727272727272727\n"
          ]
        },
        {
          "output_type": "stream",
          "name": "stderr",
          "text": [
            "\r 61%|██████    | 61/100 [01:50<01:03,  1.63s/it]"
          ]
        },
        {
          "output_type": "stream",
          "name": "stdout",
          "text": [
            "original question was:  How many duplicate tickers are there in the holdings table?\n",
            "generated sql was:  SELECT COUNT(*) FROM (SELECT holdings.ticker FROM portfolios JOIN portfolio_holdings ON portfolios.portfolio_id = portfolio_holdings.portfolio_id GROUP BY holdings.ticker HAVING COUNT(*) > 1) AS duplicates;\n",
            "actual answer was:  2\n",
            "SQL execution error: no such column: holdings.ticker\n",
            "sqlite answer was:  error\n",
            "Easy Q&A Accuracy: 76.00%\n",
            "Easy SQL Execution Error Rate:  0.16\n",
            "Med/Hard Q&A Accuracy: 36.36%\n",
            "Med/Hard SQL Execution Error Rate:  0.2727272727272727\n"
          ]
        },
        {
          "output_type": "stream",
          "name": "stderr",
          "text": [
            "\r 62%|██████▏   | 62/100 [01:55<01:46,  2.80s/it]"
          ]
        },
        {
          "output_type": "stream",
          "name": "stdout",
          "text": [
            "original question was:  What is the market value of portfolioA's AAPL holding on Aug 1, 2024\n",
            "generated sql was:  SELECT SUM(shares * price) FROM portfolio_holdings JOIN stock_prices ON portfolio_holdings.ticker = stock_prices.ticker WHERE portfolio_holdings.portfolio_id IN (SELECT portfolio_id FROM portfolios WHERE portfolio = 'portfolioA' AND portfolio_owner = 'John Doe' AND age = 35) AND stock_prices.date = '2024-08-01' AND portfolio_holdings.ticker = 'AAPL';\n",
            "actual answer was:  21836\n",
            "hello\n",
            "sqlite answer was:  0\n",
            "Easy Q&A Accuracy: 76.00%\n",
            "Easy SQL Execution Error Rate:  0.16\n",
            "Med/Hard Q&A Accuracy: 33.33%\n",
            "Med/Hard SQL Execution Error Rate:  0.25\n"
          ]
        },
        {
          "output_type": "stream",
          "name": "stderr",
          "text": [
            "\r 63%|██████▎   | 63/100 [02:00<02:10,  3.54s/it]"
          ]
        },
        {
          "output_type": "stream",
          "name": "stdout",
          "text": [
            "original question was:  What is the market value of portfolioA's AAPL holding on Aug 2, 2024\n",
            "generated sql was:  SELECT SUM(shares * price) FROM portfolio_holdings JOIN stock_prices ON portfolio_holdings.ticker = stock_prices.ticker WHERE portfolio_holdings.portfolio_id IN (SELECT portfolio_id FROM portfolios WHERE portfolio = 'portfolioA' AND portfolio_owner = 'John Doe' AND age = 35) AND stock_prices.date = '2024-08-02' AND ticker = 'AAPL';\n",
            "actual answer was:  43972\n",
            "SQL execution error: ambiguous column name: ticker\n",
            "sqlite answer was:  error\n",
            "Easy Q&A Accuracy: 76.00%\n",
            "Easy SQL Execution Error Rate:  0.16\n",
            "Med/Hard Q&A Accuracy: 30.77%\n",
            "Med/Hard SQL Execution Error Rate:  0.3076923076923077\n"
          ]
        },
        {
          "output_type": "stream",
          "name": "stderr",
          "text": [
            "\r 64%|██████▍   | 64/100 [02:04<02:11,  3.65s/it]"
          ]
        },
        {
          "output_type": "stream",
          "name": "stdout",
          "text": [
            "original question was:  Which portfolio held the most positions on Aug 2, 2024\n",
            "generated sql was:  SELECT portfolio, MAX( COUNT(DISTINCT ticker) ) FROM portfolio_holdings JOIN portfolios ON portfolio_holdings.portfolio_id = portfolios.portfolio_id JOIN stock_prices ON portfolio_holdings.ticker = stock_prices.ticker WHERE date = '2024-08-02' GROUP BY portfolio;\n",
            "actual answer was:  portfolioA\n",
            "SQL execution error: ambiguous column name: ticker\n",
            "sqlite answer was:  error\n",
            "Easy Q&A Accuracy: 76.00%\n",
            "Easy SQL Execution Error Rate:  0.16\n",
            "Med/Hard Q&A Accuracy: 28.57%\n",
            "Med/Hard SQL Execution Error Rate:  0.35714285714285715\n"
          ]
        },
        {
          "output_type": "stream",
          "name": "stderr",
          "text": [
            "\r 65%|██████▌   | 65/100 [02:08<02:12,  3.78s/it]"
          ]
        },
        {
          "output_type": "stream",
          "name": "stdout",
          "text": [
            "original question was:  What is the sum of shares held by portfolioB on Aug 1, 2024\n",
            "generated sql was:  SELECT SUM( holdings.shares ) FROM portfolios portfolio_owner JOIN portfolio_holdings holdings ON portfolio_owner.portfolio_id = holdings.portfolio_id JOIN stock_prices prices ON holdings.ticker = prices.ticker WHERE portfolio_owner.portfolio = 'portfolioB' AND holdings.date = '2024-08-01';\n",
            "actual answer was:  0\n",
            "hello\n",
            "sqlite answer was:  0\n",
            "Easy Q&A Accuracy: 76.00%\n",
            "Easy SQL Execution Error Rate:  0.16\n",
            "Med/Hard Q&A Accuracy: 33.33%\n",
            "Med/Hard SQL Execution Error Rate:  0.3333333333333333\n"
          ]
        },
        {
          "output_type": "stream",
          "name": "stderr",
          "text": [
            "\r 66%|██████▌   | 66/100 [02:11<01:59,  3.51s/it]"
          ]
        },
        {
          "output_type": "stream",
          "name": "stdout",
          "text": [
            "original question was:  What is the count of positions held by portfolioB on Aug 1, 2024\n",
            "generated sql was:  SELECT COUNT(*) FROM portfolio_holdings JOIN portfolios ON portfolio_holdings.portfolio_id = portfolios.portfolio_id WHERE portfolios.portfolio_owner = 'portfolioB' AND date = '2024-08-01';\n",
            "actual answer was:  2\n",
            "hello\n",
            "sqlite answer was:  0\n",
            "Easy Q&A Accuracy: 76.00%\n",
            "Easy SQL Execution Error Rate:  0.16\n",
            "Med/Hard Q&A Accuracy: 31.25%\n",
            "Med/Hard SQL Execution Error Rate:  0.3125\n"
          ]
        },
        {
          "output_type": "stream",
          "name": "stderr",
          "text": [
            "\r 67%|██████▋   | 67/100 [02:16<02:11,  3.98s/it]"
          ]
        },
        {
          "output_type": "stream",
          "name": "stdout",
          "text": [
            "original question was:  Which holding was largest for portfolioB on Aug 1, 2024\n",
            "generated sql was:  SELECT ph.ticker, ph.shares FROM portfolio_holdings ph INNER JOIN (SELECT portfolio_id, MAX(shares) AS max_shares FROM portfolio_holdings WHERE portfolio_owner = 'portfolioB' AND date = '2024-08-01' GROUP BY portfolio_id) m ON ph.portfolio_id = m.portfolio_id AND ph.shares = m.max_shares;\n",
            "actual answer was:  BAC\n",
            "SQL execution error: no such column: portfolio_owner\n",
            "sqlite answer was:  error\n",
            "Easy Q&A Accuracy: 76.00%\n",
            "Easy SQL Execution Error Rate:  0.16\n",
            "Med/Hard Q&A Accuracy: 29.41%\n",
            "Med/Hard SQL Execution Error Rate:  0.35294117647058826\n"
          ]
        },
        {
          "output_type": "stream",
          "name": "stderr",
          "text": [
            "\r 68%|██████▊   | 68/100 [02:21<02:12,  4.15s/it]"
          ]
        },
        {
          "output_type": "stream",
          "name": "stdout",
          "text": [
            "original question was:  Which holding was smallest for portfolioB on Aug 1, 2024\n",
            "generated sql was:  SELECT ph.ticker, ph.shares FROM portfolio_holdings ph JOIN portfolios p ON ph.portfolio_id = p.portfolio_id JOIN stock_prices sp ON ph.ticker = sp.ticker WHERE p.portfolio = 'portfolioB' AND ph.date = '2024-08-01' ORDER BY ph.shares LIMIT 1;\n",
            "actual answer was:  JPM\n",
            "hello\n",
            "An unexpected error occurred: list index out of range\n",
            "sqlite answer was:  error\n",
            "Easy Q&A Accuracy: 76.00%\n",
            "Easy SQL Execution Error Rate:  0.16\n",
            "Med/Hard Q&A Accuracy: 27.78%\n",
            "Med/Hard SQL Execution Error Rate:  0.3888888888888889\n"
          ]
        },
        {
          "output_type": "stream",
          "name": "stderr",
          "text": [
            "\r 69%|██████▉   | 69/100 [02:25<02:08,  4.14s/it]"
          ]
        },
        {
          "output_type": "stream",
          "name": "stdout",
          "text": [
            "original question was:  What is the sum of the negative positions across all holdings?\n",
            "generated sql was:  SELECT SUM( holdings.shares * stock_prices.price ) AS negative_positions_sum FROM portfolios JOIN portfolio_holdings ON portfolios.portfolio_id = portfolio_holdings.portfolio_id JOIN stock_prices ON portfolio_holdings.ticker = stock_prices.ticker WHERE (holdings.shares * stock_prices.price) < 0;\n",
            "actual answer was:  -800\n",
            "SQL execution error: no such column: holdings.shares\n",
            "sqlite answer was:  error\n",
            "Easy Q&A Accuracy: 76.00%\n",
            "Easy SQL Execution Error Rate:  0.16\n",
            "Med/Hard Q&A Accuracy: 26.32%\n",
            "Med/Hard SQL Execution Error Rate:  0.42105263157894735\n"
          ]
        },
        {
          "output_type": "stream",
          "name": "stderr",
          "text": [
            "\r 70%|███████   | 70/100 [02:30<02:09,  4.32s/it]"
          ]
        },
        {
          "output_type": "stream",
          "name": "stdout",
          "text": [
            "original question was:  What is the sum of all the positive positions for portfolio A as of the latest holdings date?\n",
            "generated sql was:  SELECT SUM( holdings.shares * stock_prices.price ) FROM portfolios JOIN portfolio_holdings AS holdings ON portfolios.portfolio_id = holdings.portfolio_id JOIN stock_prices ON holdings.ticker = stock_prices.ticker WHERE portfolios.portfolio = 'portfolio A' AND holdings.date = ( SELECT MAX(date) FROM portfolio_holdings WHERE portfolio_id = portfolios.portfolio_id );\n",
            "actual answer was:  500\n",
            "hello\n",
            "sqlite answer was:  0\n",
            "Easy Q&A Accuracy: 76.00%\n",
            "Easy SQL Execution Error Rate:  0.16\n",
            "Med/Hard Q&A Accuracy: 25.00%\n",
            "Med/Hard SQL Execution Error Rate:  0.4\n"
          ]
        },
        {
          "output_type": "stream",
          "name": "stderr",
          "text": [
            "\r 71%|███████   | 71/100 [02:31<01:39,  3.44s/it]"
          ]
        },
        {
          "output_type": "stream",
          "name": "stdout",
          "text": [
            "original question was:  What is the sum of prices for all stocks on the first day in the prices table?\n",
            "generated sql was:  SELECT SUM(price) FROM stock_prices WHERE date = (SELECT MIN(date) FROM stock_prices);\n",
            "actual answer was:  694\n",
            "hello\n",
            "sqlite answer was:  694\n",
            "Easy Q&A Accuracy: 76.00%\n",
            "Easy SQL Execution Error Rate:  0.16\n",
            "Med/Hard Q&A Accuracy: 28.57%\n",
            "Med/Hard SQL Execution Error Rate:  0.38095238095238093\n"
          ]
        },
        {
          "output_type": "stream",
          "name": "stderr",
          "text": [
            "\r 72%|███████▏  | 72/100 [02:35<01:35,  3.41s/it]"
          ]
        },
        {
          "output_type": "stream",
          "name": "stdout",
          "text": [
            "original question was:  What is the sum of AAPL and GOOG on the first day in the prices table?\n",
            "generated sql was:  SELECT SUM(sp.price * ph.shares) FROM stock_prices sp JOIN portfolio_holdings ph ON sp.date = ph.date AND sp.ticker = ph.ticker WHERE sp.ticker IN ('AAPL', 'GOOG') LIMIT 1;\n",
            "actual answer was:  324\n",
            "hello\n",
            "sqlite answer was:  99083\n",
            "Easy Q&A Accuracy: 76.00%\n",
            "Easy SQL Execution Error Rate:  0.16\n",
            "Med/Hard Q&A Accuracy: 27.27%\n",
            "Med/Hard SQL Execution Error Rate:  0.36363636363636365\n"
          ]
        },
        {
          "output_type": "stream",
          "name": "stderr",
          "text": [
            "\r 73%|███████▎  | 73/100 [02:36<01:17,  2.89s/it]"
          ]
        },
        {
          "output_type": "stream",
          "name": "stdout",
          "text": [
            "original question was:  Which stock had the highest price on Jan 2, 2024?\n",
            "generated sql was:  SELECT ticker, MAX(price) FROM stock_prices WHERE date = '2024-01-02' GROUP BY ticker;\n",
            "actual answer was:  MSFT\n",
            "hello\n",
            "sqlite answer was:  AAPL\n",
            "Easy Q&A Accuracy: 76.00%\n",
            "Easy SQL Execution Error Rate:  0.16\n",
            "Med/Hard Q&A Accuracy: 26.09%\n",
            "Med/Hard SQL Execution Error Rate:  0.34782608695652173\n"
          ]
        },
        {
          "output_type": "stream",
          "name": "stderr",
          "text": [
            "\r 74%|███████▍  | 74/100 [02:38<01:06,  2.54s/it]"
          ]
        },
        {
          "output_type": "stream",
          "name": "stdout",
          "text": [
            "original question was:  Which stock had the lowest price on the first day in the database?\n",
            "generated sql was:  SELECT ticker, MIN(price) FROM stock_prices WHERE date = (SELECT MIN(date) FROM stock_prices) GROUP BY ticker;\n",
            "actual answer was:  GOOG\n",
            "hello\n",
            "sqlite answer was:  AAPL\n",
            "Easy Q&A Accuracy: 76.00%\n",
            "Easy SQL Execution Error Rate:  0.16\n",
            "Med/Hard Q&A Accuracy: 25.00%\n",
            "Med/Hard SQL Execution Error Rate:  0.3333333333333333\n"
          ]
        },
        {
          "output_type": "stream",
          "name": "stderr",
          "text": [
            "\r 75%|███████▌  | 75/100 [02:40<01:02,  2.49s/it]"
          ]
        },
        {
          "output_type": "stream",
          "name": "stdout",
          "text": [
            "original question was:  What is the max stock price of all stocks for January 2024\n",
            "generated sql was:  SELECT MAX(sp.price) FROM stock_prices sp INNER JOIN portfolio_holdings ph ON sp.ticker = ph.ticker WHERE sp.date = '2024-01-01';\n",
            "actual answer was:  408\n",
            "hello\n",
            "sqlite answer was:  0\n",
            "Easy Q&A Accuracy: 76.00%\n",
            "Easy SQL Execution Error Rate:  0.16\n",
            "Med/Hard Q&A Accuracy: 24.00%\n",
            "Med/Hard SQL Execution Error Rate:  0.32\n"
          ]
        },
        {
          "output_type": "stream",
          "name": "stderr",
          "text": [
            "\r 76%|███████▌  | 76/100 [02:42<00:51,  2.13s/it]"
          ]
        },
        {
          "output_type": "stream",
          "name": "stdout",
          "text": [
            "original question was:  What is the minimum stock price for January 2024?\n",
            "generated sql was:  SELECT MIN(price) FROM stock_prices WHERE date = '2024-01-01';\n",
            "actual answer was:  137\n",
            "hello\n",
            "sqlite answer was:  0\n",
            "Easy Q&A Accuracy: 76.00%\n",
            "Easy SQL Execution Error Rate:  0.16\n",
            "Med/Hard Q&A Accuracy: 23.08%\n",
            "Med/Hard SQL Execution Error Rate:  0.3076923076923077\n"
          ]
        },
        {
          "output_type": "stream",
          "name": "stderr",
          "text": [
            "\r 77%|███████▋  | 77/100 [02:44<00:50,  2.21s/it]"
          ]
        },
        {
          "output_type": "stream",
          "name": "stdout",
          "text": [
            "original question was:  What is the max stock price of all stocks for February 2024\n",
            "generated sql was:  SELECT MAX(sp.price) FROM stock_prices sp INNER JOIN portfolio_holdings ph ON sp.ticker = ph.ticker WHERE sp.date = '2024-02-01';\n",
            "actual answer was:  419\n",
            "hello\n",
            "sqlite answer was:  402\n",
            "Easy Q&A Accuracy: 76.00%\n",
            "Easy SQL Execution Error Rate:  0.16\n",
            "Med/Hard Q&A Accuracy: 22.22%\n",
            "Med/Hard SQL Execution Error Rate:  0.2962962962962963\n"
          ]
        },
        {
          "output_type": "stream",
          "name": "stderr",
          "text": [
            "\r 78%|███████▊  | 78/100 [02:46<00:49,  2.26s/it]"
          ]
        },
        {
          "output_type": "stream",
          "name": "stdout",
          "text": [
            "original question was:  What is the min stock price of all stocks for February 2024\n",
            "generated sql was:  SELECT MIN(sp.price) FROM stock_prices sp INNER JOIN portfolio_holdings ph ON sp.ticker = ph.ticker WHERE sp.date = '2024-02-01';\n",
            "actual answer was:  137\n",
            "hello\n",
            "sqlite answer was:  142\n",
            "Easy Q&A Accuracy: 76.00%\n",
            "Easy SQL Execution Error Rate:  0.16\n",
            "Med/Hard Q&A Accuracy: 21.43%\n",
            "Med/Hard SQL Execution Error Rate:  0.2857142857142857\n"
          ]
        },
        {
          "output_type": "stream",
          "name": "stderr",
          "text": [
            "\r 79%|███████▉  | 79/100 [02:49<00:48,  2.29s/it]"
          ]
        },
        {
          "output_type": "stream",
          "name": "stdout",
          "text": [
            "original question was:  What is the max stock price of all stocks for March 2024\n",
            "generated sql was:  SELECT MAX(sp.price) FROM stock_prices sp INNER JOIN portfolio_holdings ph ON sp.ticker = ph.ticker WHERE sp.date = '2024-03-01';\n",
            "actual answer was:  428\n",
            "hello\n",
            "sqlite answer was:  414\n",
            "Easy Q&A Accuracy: 76.00%\n",
            "Easy SQL Execution Error Rate:  0.16\n",
            "Med/Hard Q&A Accuracy: 20.69%\n",
            "Med/Hard SQL Execution Error Rate:  0.27586206896551724\n"
          ]
        },
        {
          "output_type": "stream",
          "name": "stderr",
          "text": [
            "\r 80%|████████  | 80/100 [02:51<00:45,  2.29s/it]"
          ]
        },
        {
          "output_type": "stream",
          "name": "stdout",
          "text": [
            "original question was:  What is the min stock price of all stocks for March 2024\n",
            "generated sql was:  SELECT MIN(sp.price) FROM stock_prices sp JOIN portfolio_holdings ph ON sp.ticker = ph.ticker WHERE sp.date = '2024-03-01';\n",
            "actual answer was:  132\n",
            "hello\n",
            "sqlite answer was:  137\n",
            "Easy Q&A Accuracy: 76.00%\n",
            "Easy SQL Execution Error Rate:  0.16\n",
            "Med/Hard Q&A Accuracy: 20.00%\n",
            "Med/Hard SQL Execution Error Rate:  0.26666666666666666\n"
          ]
        },
        {
          "output_type": "stream",
          "name": "stderr",
          "text": [
            "\r 81%|████████  | 81/100 [02:53<00:44,  2.32s/it]"
          ]
        },
        {
          "output_type": "stream",
          "name": "stdout",
          "text": [
            "original question was:  What is the max stock price of all stocks for April 2024\n",
            "generated sql was:  SELECT MAX(sp.price) FROM stock_prices sp INNER JOIN portfolio_holdings ph ON sp.ticker = ph.ticker WHERE sp.date = '2024-04-01';\n",
            "actual answer was:  427\n",
            "hello\n",
            "sqlite answer was:  423\n",
            "Easy Q&A Accuracy: 76.00%\n",
            "Easy SQL Execution Error Rate:  0.16\n",
            "Med/Hard Q&A Accuracy: 19.35%\n",
            "Med/Hard SQL Execution Error Rate:  0.25806451612903225\n"
          ]
        },
        {
          "output_type": "stream",
          "name": "stderr",
          "text": [
            "\r 82%|████████▏ | 82/100 [02:56<00:42,  2.34s/it]"
          ]
        },
        {
          "output_type": "stream",
          "name": "stdout",
          "text": [
            "original question was:  What is the min stock price of all stocks for April 2024\n",
            "generated sql was:  SELECT MIN(sp.price) FROM stock_prices sp INNER JOIN portfolio_holdings ph ON sp.ticker = ph.ticker WHERE sp.date = '2024-04-01';\n",
            "actual answer was:  151\n",
            "hello\n",
            "sqlite answer was:  156\n",
            "Easy Q&A Accuracy: 76.00%\n",
            "Easy SQL Execution Error Rate:  0.16\n",
            "Med/Hard Q&A Accuracy: 18.75%\n",
            "Med/Hard SQL Execution Error Rate:  0.25\n"
          ]
        },
        {
          "output_type": "stream",
          "name": "stderr",
          "text": [
            "\r 83%|████████▎ | 83/100 [02:58<00:40,  2.36s/it]"
          ]
        },
        {
          "output_type": "stream",
          "name": "stdout",
          "text": [
            "original question was:  What is the max stock price of all stocks for May 2024\n",
            "generated sql was:  SELECT MAX(sp.price) FROM stock_prices sp INNER JOIN portfolio_holdings ph ON sp.ticker = ph.ticker WHERE sp.date = '2024-05-01';\n",
            "actual answer was:  430\n",
            "hello\n",
            "sqlite answer was:  394\n",
            "Easy Q&A Accuracy: 76.00%\n",
            "Easy SQL Execution Error Rate:  0.16\n",
            "Med/Hard Q&A Accuracy: 18.18%\n",
            "Med/Hard SQL Execution Error Rate:  0.24242424242424243\n"
          ]
        },
        {
          "output_type": "stream",
          "name": "stderr",
          "text": [
            "\r 84%|████████▍ | 84/100 [03:01<00:37,  2.35s/it]"
          ]
        },
        {
          "output_type": "stream",
          "name": "stdout",
          "text": [
            "original question was:  What is the min stock price of all stocks for May 2024\n",
            "generated sql was:  SELECT MIN(sp.price) FROM stock_prices sp JOIN portfolio_holdings ph ON sp.ticker = ph.ticker WHERE sp.date = '2024-05-01';\n",
            "actual answer was:  165\n",
            "hello\n",
            "sqlite answer was:  165\n",
            "Easy Q&A Accuracy: 76.00%\n",
            "Easy SQL Execution Error Rate:  0.16\n",
            "Med/Hard Q&A Accuracy: 20.59%\n",
            "Med/Hard SQL Execution Error Rate:  0.23529411764705882\n"
          ]
        },
        {
          "output_type": "stream",
          "name": "stderr",
          "text": [
            "\r 85%|████████▌ | 85/100 [03:03<00:35,  2.35s/it]"
          ]
        },
        {
          "output_type": "stream",
          "name": "stdout",
          "text": [
            "original question was:  What is the max stock price of all stocks for June 2024\n",
            "generated sql was:  SELECT MAX(sp.price) FROM stock_prices sp INNER JOIN portfolio_holdings ph ON sp.ticker = ph.ticker WHERE sp.date = '2024-06-01';\n",
            "actual answer was:  452\n",
            "hello\n",
            "sqlite answer was:  0\n",
            "Easy Q&A Accuracy: 76.00%\n",
            "Easy SQL Execution Error Rate:  0.16\n",
            "Med/Hard Q&A Accuracy: 20.00%\n",
            "Med/Hard SQL Execution Error Rate:  0.22857142857142856\n"
          ]
        },
        {
          "output_type": "stream",
          "name": "stderr",
          "text": [
            "\r 86%|████████▌ | 86/100 [03:05<00:32,  2.34s/it]"
          ]
        },
        {
          "output_type": "stream",
          "name": "stdout",
          "text": [
            "original question was:  What is the min stock price of all stocks for June 2024\n",
            "generated sql was:  SELECT MIN(sp.price) FROM stock_prices sp JOIN portfolio_holdings ph ON sp.ticker = ph.ticker WHERE sp.date = '2024-06-01';\n",
            "actual answer was:  174\n",
            "hello\n",
            "sqlite answer was:  0\n",
            "Easy Q&A Accuracy: 76.00%\n",
            "Easy SQL Execution Error Rate:  0.16\n",
            "Med/Hard Q&A Accuracy: 19.44%\n",
            "Med/Hard SQL Execution Error Rate:  0.2222222222222222\n"
          ]
        },
        {
          "output_type": "stream",
          "name": "stderr",
          "text": [
            "\r 87%|████████▋ | 87/100 [03:08<00:30,  2.35s/it]"
          ]
        },
        {
          "output_type": "stream",
          "name": "stdout",
          "text": [
            "original question was:  What is the max stock price of all stocks for July 2024\n",
            "generated sql was:  SELECT MAX(sp.price) FROM stock_prices sp INNER JOIN portfolio_holdings ph ON sp.ticker = ph.ticker WHERE sp.date = '2024-07-01';\n",
            "actual answer was:  467\n",
            "hello\n",
            "sqlite answer was:  456\n",
            "Easy Q&A Accuracy: 76.00%\n",
            "Easy SQL Execution Error Rate:  0.16\n",
            "Med/Hard Q&A Accuracy: 18.92%\n",
            "Med/Hard SQL Execution Error Rate:  0.21621621621621623\n"
          ]
        },
        {
          "output_type": "stream",
          "name": "stderr",
          "text": [
            "\r 88%|████████▊ | 88/100 [03:10<00:28,  2.36s/it]"
          ]
        },
        {
          "output_type": "stream",
          "name": "stdout",
          "text": [
            "original question was:  What is the min stock price of all stocks for July 2024\n",
            "generated sql was:  SELECT MIN(sp.price) FROM stock_prices sp INNER JOIN portfolio_holdings ph ON sp.ticker = ph.ticker WHERE sp.date = '2024-07-01';\n",
            "actual answer was:  168\n",
            "hello\n",
            "sqlite answer was:  184\n",
            "Easy Q&A Accuracy: 76.00%\n",
            "Easy SQL Execution Error Rate:  0.16\n",
            "Med/Hard Q&A Accuracy: 18.42%\n",
            "Med/Hard SQL Execution Error Rate:  0.21052631578947367\n"
          ]
        },
        {
          "output_type": "stream",
          "name": "stderr",
          "text": [
            "\r 89%|████████▉ | 89/100 [03:11<00:23,  2.10s/it]"
          ]
        },
        {
          "output_type": "stream",
          "name": "stdout",
          "text": [
            "original question was:  What is the max stock price of all stocks for Aug 2024\n",
            "generated sql was:  SELECT MAX(sp.price) FROM stock_prices sp WHERE sp.date = '2024-08-01';\n",
            "actual answer was:  417\n",
            "hello\n",
            "sqlite answer was:  417\n",
            "Easy Q&A Accuracy: 76.00%\n",
            "Easy SQL Execution Error Rate:  0.16\n",
            "Med/Hard Q&A Accuracy: 20.51%\n",
            "Med/Hard SQL Execution Error Rate:  0.20512820512820512\n"
          ]
        },
        {
          "output_type": "stream",
          "name": "stderr",
          "text": [
            "\r 90%|█████████ | 90/100 [03:14<00:22,  2.29s/it]"
          ]
        },
        {
          "output_type": "stream",
          "name": "stdout",
          "text": [
            "original question was:  What is the min stock price of all stocks for Aug 2024\n",
            "generated sql was:  SELECT MIN(sp.price) FROM stock_prices sp JOIN portfolio_holdings ph ON sp.date = ph.date AND sp.ticker = ph.ticker WHERE sp.date = '2024-08-01';\n",
            "actual answer was:  168\n",
            "hello\n",
            "sqlite answer was:  172\n",
            "Easy Q&A Accuracy: 76.00%\n",
            "Easy SQL Execution Error Rate:  0.16\n",
            "Med/Hard Q&A Accuracy: 20.00%\n",
            "Med/Hard SQL Execution Error Rate:  0.2\n"
          ]
        },
        {
          "output_type": "stream",
          "name": "stderr",
          "text": [
            "\r 91%|█████████ | 91/100 [03:16<00:18,  2.07s/it]"
          ]
        },
        {
          "output_type": "stream",
          "name": "stdout",
          "text": [
            "original question was:  What is the average stock price for Jan 2024\n",
            "generated sql was:  SELECT AVG(stock_prices.price) FROM stock_prices WHERE stock_prices.date = '2024-01-01';\n",
            "actual answer was:  240\n",
            "hello\n",
            "sqlite answer was:  0\n",
            "Easy Q&A Accuracy: 76.00%\n",
            "Easy SQL Execution Error Rate:  0.16\n",
            "Med/Hard Q&A Accuracy: 19.51%\n",
            "Med/Hard SQL Execution Error Rate:  0.1951219512195122\n"
          ]
        },
        {
          "output_type": "stream",
          "name": "stderr",
          "text": [
            "\r 92%|█████████▏| 92/100 [03:17<00:15,  1.91s/it]"
          ]
        },
        {
          "output_type": "stream",
          "name": "stdout",
          "text": [
            "original question was:  What is the average stock price for Jan 2024\n",
            "generated sql was:  SELECT AVG(stock_prices.price) FROM stock_prices WHERE stock_prices.date = '2024-01-01';\n",
            "actual answer was:  240\n",
            "hello\n",
            "sqlite answer was:  0\n",
            "Easy Q&A Accuracy: 76.00%\n",
            "Easy SQL Execution Error Rate:  0.16\n",
            "Med/Hard Q&A Accuracy: 19.05%\n",
            "Med/Hard SQL Execution Error Rate:  0.19047619047619047\n"
          ]
        },
        {
          "output_type": "stream",
          "name": "stderr",
          "text": [
            "\r 93%|█████████▎| 93/100 [03:20<00:14,  2.10s/it]"
          ]
        },
        {
          "output_type": "stream",
          "name": "stdout",
          "text": [
            "original question was:  What is the average stock price for Jan 2024\n",
            "generated sql was:  SELECT AVG(stock_prices.price) FROM stock_prices INNER JOIN portfolio_holdings ON stock_prices.ticker = portfolio_holdings.ticker WHERE stock_prices.date = '2024-01-01';\n",
            "actual answer was:  240\n",
            "hello\n",
            "sqlite answer was:  0\n",
            "Easy Q&A Accuracy: 76.00%\n",
            "Easy SQL Execution Error Rate:  0.16\n",
            "Med/Hard Q&A Accuracy: 18.60%\n",
            "Med/Hard SQL Execution Error Rate:  0.18604651162790697\n"
          ]
        },
        {
          "output_type": "stream",
          "name": "stderr",
          "text": [
            "\r 94%|█████████▍| 94/100 [03:21<00:11,  1.94s/it]"
          ]
        },
        {
          "output_type": "stream",
          "name": "stdout",
          "text": [
            "original question was:  What is the average stock price for Jan 2024\n",
            "generated sql was:  SELECT AVG(stock_prices.price) FROM stock_prices WHERE stock_prices.date = '2024-01-01';\n",
            "actual answer was:  240\n",
            "hello\n",
            "sqlite answer was:  0\n",
            "Easy Q&A Accuracy: 76.00%\n",
            "Easy SQL Execution Error Rate:  0.16\n",
            "Med/Hard Q&A Accuracy: 18.18%\n",
            "Med/Hard SQL Execution Error Rate:  0.18181818181818182\n"
          ]
        },
        {
          "output_type": "stream",
          "name": "stderr",
          "text": [
            "\r 95%|█████████▌| 95/100 [03:23<00:09,  1.83s/it]"
          ]
        },
        {
          "output_type": "stream",
          "name": "stdout",
          "text": [
            "original question was:  What is the average stock price for Jan 2024\n",
            "generated sql was:  SELECT AVG(stock_prices.price) FROM stock_prices WHERE stock_prices.date = '2024-01-01';\n",
            "actual answer was:  240\n",
            "hello\n",
            "sqlite answer was:  0\n",
            "Easy Q&A Accuracy: 76.00%\n",
            "Easy SQL Execution Error Rate:  0.16\n",
            "Med/Hard Q&A Accuracy: 17.78%\n",
            "Med/Hard SQL Execution Error Rate:  0.17777777777777778\n"
          ]
        },
        {
          "output_type": "stream",
          "name": "stderr",
          "text": [
            "\r 96%|█████████▌| 96/100 [03:25<00:06,  1.74s/it]"
          ]
        },
        {
          "output_type": "stream",
          "name": "stdout",
          "text": [
            "original question was:  What is the average stock price for Jan 2024\n",
            "generated sql was:  SELECT AVG(stock_prices.price) FROM stock_prices WHERE stock_prices.date = '2024-01-01';\n",
            "actual answer was:  240\n",
            "hello\n",
            "sqlite answer was:  0\n",
            "Easy Q&A Accuracy: 76.00%\n",
            "Easy SQL Execution Error Rate:  0.16\n",
            "Med/Hard Q&A Accuracy: 17.39%\n",
            "Med/Hard SQL Execution Error Rate:  0.17391304347826086\n"
          ]
        },
        {
          "output_type": "stream",
          "name": "stderr",
          "text": [
            "\r 97%|█████████▋| 97/100 [03:26<00:05,  1.68s/it]"
          ]
        },
        {
          "output_type": "stream",
          "name": "stdout",
          "text": [
            "original question was:  What is the average stock price for Jan 2024\n",
            "generated sql was:  SELECT AVG(stock_prices.price) FROM stock_prices WHERE stock_prices.date = '2024-01-01';\n",
            "actual answer was:  240\n",
            "hello\n",
            "sqlite answer was:  0\n",
            "Easy Q&A Accuracy: 76.00%\n",
            "Easy SQL Execution Error Rate:  0.16\n",
            "Med/Hard Q&A Accuracy: 17.02%\n",
            "Med/Hard SQL Execution Error Rate:  0.1702127659574468\n"
          ]
        },
        {
          "output_type": "stream",
          "name": "stderr",
          "text": [
            "\r 98%|█████████▊| 98/100 [03:29<00:03,  1.95s/it]"
          ]
        },
        {
          "output_type": "stream",
          "name": "stdout",
          "text": [
            "original question was:  What is the average stock price for Jan 2024\n",
            "generated sql was:  SELECT AVG(stock_prices.price) FROM stock_prices INNER JOIN portfolio_holdings ON stock_prices.ticker = portfolio_holdings.ticker WHERE stock_prices.date = '2024-01-01';\n",
            "actual answer was:  240\n",
            "hello\n",
            "sqlite answer was:  0\n",
            "Easy Q&A Accuracy: 76.00%\n",
            "Easy SQL Execution Error Rate:  0.16\n",
            "Med/Hard Q&A Accuracy: 16.67%\n",
            "Med/Hard SQL Execution Error Rate:  0.16666666666666666\n"
          ]
        },
        {
          "output_type": "stream",
          "name": "stderr",
          "text": [
            "\r 99%|█████████▉| 99/100 [03:29<00:01,  1.60s/it]"
          ]
        },
        {
          "output_type": "stream",
          "name": "stdout",
          "text": [
            "original question was:  What is the max stock price for the whole year\n",
            "generated sql was:  SELECT MAX(sp.price) FROM stock_prices sp;\n",
            "actual answer was:  132\n",
            "hello\n",
            "sqlite answer was:  price\n",
            "Easy Q&A Accuracy: 76.00%\n",
            "Easy SQL Execution Error Rate:  0.16\n",
            "Med/Hard Q&A Accuracy: 16.33%\n",
            "Med/Hard SQL Execution Error Rate:  0.16326530612244897\n"
          ]
        },
        {
          "output_type": "stream",
          "name": "stderr",
          "text": [
            "100%|██████████| 100/100 [03:30<00:00,  2.11s/it]"
          ]
        },
        {
          "output_type": "stream",
          "name": "stdout",
          "text": [
            "original question was:  What is the min stock price for the whole year\n",
            "generated sql was:  SELECT MIN(sp.price) FROM stock_prices sp;\n",
            "actual answer was:  467\n",
            "hello\n",
            "sqlite answer was:  132\n",
            "Easy Q&A Accuracy: 76.00%\n",
            "Easy SQL Execution Error Rate:  0.16\n",
            "Med/Hard Q&A Accuracy: 16.00%\n",
            "Med/Hard SQL Execution Error Rate:  0.16\n",
            "Easy Q&A Accuracy: 76.00%\n",
            "Easy SQL Execution Error Rate: 16.00%\n",
            "Med/Hard Q&A Accuracy: 16.00%\n",
            "Med/Hard SQL Execution Error Rate: 16.00%\n"
          ]
        },
        {
          "output_type": "stream",
          "name": "stderr",
          "text": [
            "\n"
          ]
        }
      ]
    }
  ],
  "metadata": {
    "colab": {
      "provenance": [],
      "gpuType": "A100",
      "machine_shape": "hm"
    },
    "kernelspec": {
      "display_name": "Python 3",
      "name": "python3"
    },
    "language_info": {
      "name": "python"
    },
    "widgets": {
      "application/vnd.jupyter.widget-state+json": {
        "b8fc224170504caba7dab63f067b7d08": {
          "model_module": "@jupyter-widgets/controls",
          "model_name": "HBoxModel",
          "model_module_version": "1.5.0",
          "state": {
            "_dom_classes": [],
            "_model_module": "@jupyter-widgets/controls",
            "_model_module_version": "1.5.0",
            "_model_name": "HBoxModel",
            "_view_count": null,
            "_view_module": "@jupyter-widgets/controls",
            "_view_module_version": "1.5.0",
            "_view_name": "HBoxView",
            "box_style": "",
            "children": [
              "IPY_MODEL_82356c00c1e2401eb1691a52c74031cf",
              "IPY_MODEL_1e7b53272e5f4bf394a0e5874be428a3",
              "IPY_MODEL_d88c64eba1304e319150eea51052c8d6"
            ],
            "layout": "IPY_MODEL_e4cbd82b6b284efca9edcf6021764e10"
          }
        },
        "82356c00c1e2401eb1691a52c74031cf": {
          "model_module": "@jupyter-widgets/controls",
          "model_name": "HTMLModel",
          "model_module_version": "1.5.0",
          "state": {
            "_dom_classes": [],
            "_model_module": "@jupyter-widgets/controls",
            "_model_module_version": "1.5.0",
            "_model_name": "HTMLModel",
            "_view_count": null,
            "_view_module": "@jupyter-widgets/controls",
            "_view_module_version": "1.5.0",
            "_view_name": "HTMLView",
            "description": "",
            "description_tooltip": null,
            "layout": "IPY_MODEL_50188fafe70a4496b6e76fdcf03b24f9",
            "placeholder": "​",
            "style": "IPY_MODEL_1bf81d35f67942c78fd5709c623fb994",
            "value": "Map: 100%"
          }
        },
        "1e7b53272e5f4bf394a0e5874be428a3": {
          "model_module": "@jupyter-widgets/controls",
          "model_name": "FloatProgressModel",
          "model_module_version": "1.5.0",
          "state": {
            "_dom_classes": [],
            "_model_module": "@jupyter-widgets/controls",
            "_model_module_version": "1.5.0",
            "_model_name": "FloatProgressModel",
            "_view_count": null,
            "_view_module": "@jupyter-widgets/controls",
            "_view_module_version": "1.5.0",
            "_view_name": "ProgressView",
            "bar_style": "success",
            "description": "",
            "description_tooltip": null,
            "layout": "IPY_MODEL_2d4c36e3794d463c96df960789c764ee",
            "max": 100,
            "min": 0,
            "orientation": "horizontal",
            "style": "IPY_MODEL_bfd6a2e7d67d4a4283157435881f0092",
            "value": 100
          }
        },
        "d88c64eba1304e319150eea51052c8d6": {
          "model_module": "@jupyter-widgets/controls",
          "model_name": "HTMLModel",
          "model_module_version": "1.5.0",
          "state": {
            "_dom_classes": [],
            "_model_module": "@jupyter-widgets/controls",
            "_model_module_version": "1.5.0",
            "_model_name": "HTMLModel",
            "_view_count": null,
            "_view_module": "@jupyter-widgets/controls",
            "_view_module_version": "1.5.0",
            "_view_name": "HTMLView",
            "description": "",
            "description_tooltip": null,
            "layout": "IPY_MODEL_db940857796b403fa81cad7bebad4847",
            "placeholder": "​",
            "style": "IPY_MODEL_8949e21a278f4a4297dcb1958ccaf4b0",
            "value": " 100/100 [00:00&lt;00:00, 4539.39 examples/s]"
          }
        },
        "e4cbd82b6b284efca9edcf6021764e10": {
          "model_module": "@jupyter-widgets/base",
          "model_name": "LayoutModel",
          "model_module_version": "1.2.0",
          "state": {
            "_model_module": "@jupyter-widgets/base",
            "_model_module_version": "1.2.0",
            "_model_name": "LayoutModel",
            "_view_count": null,
            "_view_module": "@jupyter-widgets/base",
            "_view_module_version": "1.2.0",
            "_view_name": "LayoutView",
            "align_content": null,
            "align_items": null,
            "align_self": null,
            "border": null,
            "bottom": null,
            "display": null,
            "flex": null,
            "flex_flow": null,
            "grid_area": null,
            "grid_auto_columns": null,
            "grid_auto_flow": null,
            "grid_auto_rows": null,
            "grid_column": null,
            "grid_gap": null,
            "grid_row": null,
            "grid_template_areas": null,
            "grid_template_columns": null,
            "grid_template_rows": null,
            "height": null,
            "justify_content": null,
            "justify_items": null,
            "left": null,
            "margin": null,
            "max_height": null,
            "max_width": null,
            "min_height": null,
            "min_width": null,
            "object_fit": null,
            "object_position": null,
            "order": null,
            "overflow": null,
            "overflow_x": null,
            "overflow_y": null,
            "padding": null,
            "right": null,
            "top": null,
            "visibility": null,
            "width": null
          }
        },
        "50188fafe70a4496b6e76fdcf03b24f9": {
          "model_module": "@jupyter-widgets/base",
          "model_name": "LayoutModel",
          "model_module_version": "1.2.0",
          "state": {
            "_model_module": "@jupyter-widgets/base",
            "_model_module_version": "1.2.0",
            "_model_name": "LayoutModel",
            "_view_count": null,
            "_view_module": "@jupyter-widgets/base",
            "_view_module_version": "1.2.0",
            "_view_name": "LayoutView",
            "align_content": null,
            "align_items": null,
            "align_self": null,
            "border": null,
            "bottom": null,
            "display": null,
            "flex": null,
            "flex_flow": null,
            "grid_area": null,
            "grid_auto_columns": null,
            "grid_auto_flow": null,
            "grid_auto_rows": null,
            "grid_column": null,
            "grid_gap": null,
            "grid_row": null,
            "grid_template_areas": null,
            "grid_template_columns": null,
            "grid_template_rows": null,
            "height": null,
            "justify_content": null,
            "justify_items": null,
            "left": null,
            "margin": null,
            "max_height": null,
            "max_width": null,
            "min_height": null,
            "min_width": null,
            "object_fit": null,
            "object_position": null,
            "order": null,
            "overflow": null,
            "overflow_x": null,
            "overflow_y": null,
            "padding": null,
            "right": null,
            "top": null,
            "visibility": null,
            "width": null
          }
        },
        "1bf81d35f67942c78fd5709c623fb994": {
          "model_module": "@jupyter-widgets/controls",
          "model_name": "DescriptionStyleModel",
          "model_module_version": "1.5.0",
          "state": {
            "_model_module": "@jupyter-widgets/controls",
            "_model_module_version": "1.5.0",
            "_model_name": "DescriptionStyleModel",
            "_view_count": null,
            "_view_module": "@jupyter-widgets/base",
            "_view_module_version": "1.2.0",
            "_view_name": "StyleView",
            "description_width": ""
          }
        },
        "2d4c36e3794d463c96df960789c764ee": {
          "model_module": "@jupyter-widgets/base",
          "model_name": "LayoutModel",
          "model_module_version": "1.2.0",
          "state": {
            "_model_module": "@jupyter-widgets/base",
            "_model_module_version": "1.2.0",
            "_model_name": "LayoutModel",
            "_view_count": null,
            "_view_module": "@jupyter-widgets/base",
            "_view_module_version": "1.2.0",
            "_view_name": "LayoutView",
            "align_content": null,
            "align_items": null,
            "align_self": null,
            "border": null,
            "bottom": null,
            "display": null,
            "flex": null,
            "flex_flow": null,
            "grid_area": null,
            "grid_auto_columns": null,
            "grid_auto_flow": null,
            "grid_auto_rows": null,
            "grid_column": null,
            "grid_gap": null,
            "grid_row": null,
            "grid_template_areas": null,
            "grid_template_columns": null,
            "grid_template_rows": null,
            "height": null,
            "justify_content": null,
            "justify_items": null,
            "left": null,
            "margin": null,
            "max_height": null,
            "max_width": null,
            "min_height": null,
            "min_width": null,
            "object_fit": null,
            "object_position": null,
            "order": null,
            "overflow": null,
            "overflow_x": null,
            "overflow_y": null,
            "padding": null,
            "right": null,
            "top": null,
            "visibility": null,
            "width": null
          }
        },
        "bfd6a2e7d67d4a4283157435881f0092": {
          "model_module": "@jupyter-widgets/controls",
          "model_name": "ProgressStyleModel",
          "model_module_version": "1.5.0",
          "state": {
            "_model_module": "@jupyter-widgets/controls",
            "_model_module_version": "1.5.0",
            "_model_name": "ProgressStyleModel",
            "_view_count": null,
            "_view_module": "@jupyter-widgets/base",
            "_view_module_version": "1.2.0",
            "_view_name": "StyleView",
            "bar_color": null,
            "description_width": ""
          }
        },
        "db940857796b403fa81cad7bebad4847": {
          "model_module": "@jupyter-widgets/base",
          "model_name": "LayoutModel",
          "model_module_version": "1.2.0",
          "state": {
            "_model_module": "@jupyter-widgets/base",
            "_model_module_version": "1.2.0",
            "_model_name": "LayoutModel",
            "_view_count": null,
            "_view_module": "@jupyter-widgets/base",
            "_view_module_version": "1.2.0",
            "_view_name": "LayoutView",
            "align_content": null,
            "align_items": null,
            "align_self": null,
            "border": null,
            "bottom": null,
            "display": null,
            "flex": null,
            "flex_flow": null,
            "grid_area": null,
            "grid_auto_columns": null,
            "grid_auto_flow": null,
            "grid_auto_rows": null,
            "grid_column": null,
            "grid_gap": null,
            "grid_row": null,
            "grid_template_areas": null,
            "grid_template_columns": null,
            "grid_template_rows": null,
            "height": null,
            "justify_content": null,
            "justify_items": null,
            "left": null,
            "margin": null,
            "max_height": null,
            "max_width": null,
            "min_height": null,
            "min_width": null,
            "object_fit": null,
            "object_position": null,
            "order": null,
            "overflow": null,
            "overflow_x": null,
            "overflow_y": null,
            "padding": null,
            "right": null,
            "top": null,
            "visibility": null,
            "width": null
          }
        },
        "8949e21a278f4a4297dcb1958ccaf4b0": {
          "model_module": "@jupyter-widgets/controls",
          "model_name": "DescriptionStyleModel",
          "model_module_version": "1.5.0",
          "state": {
            "_model_module": "@jupyter-widgets/controls",
            "_model_module_version": "1.5.0",
            "_model_name": "DescriptionStyleModel",
            "_view_count": null,
            "_view_module": "@jupyter-widgets/base",
            "_view_module_version": "1.2.0",
            "_view_name": "StyleView",
            "description_width": ""
          }
        },
        "8e9a7f41f5aa46078dea603343d12c23": {
          "model_module": "@jupyter-widgets/controls",
          "model_name": "HBoxModel",
          "model_module_version": "1.5.0",
          "state": {
            "_dom_classes": [],
            "_model_module": "@jupyter-widgets/controls",
            "_model_module_version": "1.5.0",
            "_model_name": "HBoxModel",
            "_view_count": null,
            "_view_module": "@jupyter-widgets/controls",
            "_view_module_version": "1.5.0",
            "_view_name": "HBoxView",
            "box_style": "",
            "children": [
              "IPY_MODEL_f4770cc22f07470fbc363d7e88173ef2",
              "IPY_MODEL_355e5c9aaab34e9d8c7fa9cd430ca29f",
              "IPY_MODEL_514543e2b1ec4f3fab137268ab7e77cc"
            ],
            "layout": "IPY_MODEL_10089bff6fa34a0589a1d01ac00dc905"
          }
        },
        "f4770cc22f07470fbc363d7e88173ef2": {
          "model_module": "@jupyter-widgets/controls",
          "model_name": "HTMLModel",
          "model_module_version": "1.5.0",
          "state": {
            "_dom_classes": [],
            "_model_module": "@jupyter-widgets/controls",
            "_model_module_version": "1.5.0",
            "_model_name": "HTMLModel",
            "_view_count": null,
            "_view_module": "@jupyter-widgets/controls",
            "_view_module_version": "1.5.0",
            "_view_name": "HTMLView",
            "description": "",
            "description_tooltip": null,
            "layout": "IPY_MODEL_648d896e42c649968f104859fb299169",
            "placeholder": "​",
            "style": "IPY_MODEL_e4ed4cc7fcfc4b969dfc2304e865809d",
            "value": "model.safetensors: 100%"
          }
        },
        "355e5c9aaab34e9d8c7fa9cd430ca29f": {
          "model_module": "@jupyter-widgets/controls",
          "model_name": "FloatProgressModel",
          "model_module_version": "1.5.0",
          "state": {
            "_dom_classes": [],
            "_model_module": "@jupyter-widgets/controls",
            "_model_module_version": "1.5.0",
            "_model_name": "FloatProgressModel",
            "_view_count": null,
            "_view_module": "@jupyter-widgets/controls",
            "_view_module_version": "1.5.0",
            "_view_name": "ProgressView",
            "bar_style": "success",
            "description": "",
            "description_tooltip": null,
            "layout": "IPY_MODEL_6c2da46218504e8d807c7fdffffe4225",
            "max": 5702746383,
            "min": 0,
            "orientation": "horizontal",
            "style": "IPY_MODEL_7cc5e3553b3a45b39fa99afd27f2326d",
            "value": 5702746383
          }
        },
        "514543e2b1ec4f3fab137268ab7e77cc": {
          "model_module": "@jupyter-widgets/controls",
          "model_name": "HTMLModel",
          "model_module_version": "1.5.0",
          "state": {
            "_dom_classes": [],
            "_model_module": "@jupyter-widgets/controls",
            "_model_module_version": "1.5.0",
            "_model_name": "HTMLModel",
            "_view_count": null,
            "_view_module": "@jupyter-widgets/controls",
            "_view_module_version": "1.5.0",
            "_view_name": "HTMLView",
            "description": "",
            "description_tooltip": null,
            "layout": "IPY_MODEL_a2caf7c999a242c1b0cc06cefeefcc1c",
            "placeholder": "​",
            "style": "IPY_MODEL_cbd27ac7cd19427ca5c02ee82b3cad89",
            "value": " 5.70G/5.70G [00:17&lt;00:00, 331MB/s]"
          }
        },
        "10089bff6fa34a0589a1d01ac00dc905": {
          "model_module": "@jupyter-widgets/base",
          "model_name": "LayoutModel",
          "model_module_version": "1.2.0",
          "state": {
            "_model_module": "@jupyter-widgets/base",
            "_model_module_version": "1.2.0",
            "_model_name": "LayoutModel",
            "_view_count": null,
            "_view_module": "@jupyter-widgets/base",
            "_view_module_version": "1.2.0",
            "_view_name": "LayoutView",
            "align_content": null,
            "align_items": null,
            "align_self": null,
            "border": null,
            "bottom": null,
            "display": null,
            "flex": null,
            "flex_flow": null,
            "grid_area": null,
            "grid_auto_columns": null,
            "grid_auto_flow": null,
            "grid_auto_rows": null,
            "grid_column": null,
            "grid_gap": null,
            "grid_row": null,
            "grid_template_areas": null,
            "grid_template_columns": null,
            "grid_template_rows": null,
            "height": null,
            "justify_content": null,
            "justify_items": null,
            "left": null,
            "margin": null,
            "max_height": null,
            "max_width": null,
            "min_height": null,
            "min_width": null,
            "object_fit": null,
            "object_position": null,
            "order": null,
            "overflow": null,
            "overflow_x": null,
            "overflow_y": null,
            "padding": null,
            "right": null,
            "top": null,
            "visibility": null,
            "width": null
          }
        },
        "648d896e42c649968f104859fb299169": {
          "model_module": "@jupyter-widgets/base",
          "model_name": "LayoutModel",
          "model_module_version": "1.2.0",
          "state": {
            "_model_module": "@jupyter-widgets/base",
            "_model_module_version": "1.2.0",
            "_model_name": "LayoutModel",
            "_view_count": null,
            "_view_module": "@jupyter-widgets/base",
            "_view_module_version": "1.2.0",
            "_view_name": "LayoutView",
            "align_content": null,
            "align_items": null,
            "align_self": null,
            "border": null,
            "bottom": null,
            "display": null,
            "flex": null,
            "flex_flow": null,
            "grid_area": null,
            "grid_auto_columns": null,
            "grid_auto_flow": null,
            "grid_auto_rows": null,
            "grid_column": null,
            "grid_gap": null,
            "grid_row": null,
            "grid_template_areas": null,
            "grid_template_columns": null,
            "grid_template_rows": null,
            "height": null,
            "justify_content": null,
            "justify_items": null,
            "left": null,
            "margin": null,
            "max_height": null,
            "max_width": null,
            "min_height": null,
            "min_width": null,
            "object_fit": null,
            "object_position": null,
            "order": null,
            "overflow": null,
            "overflow_x": null,
            "overflow_y": null,
            "padding": null,
            "right": null,
            "top": null,
            "visibility": null,
            "width": null
          }
        },
        "e4ed4cc7fcfc4b969dfc2304e865809d": {
          "model_module": "@jupyter-widgets/controls",
          "model_name": "DescriptionStyleModel",
          "model_module_version": "1.5.0",
          "state": {
            "_model_module": "@jupyter-widgets/controls",
            "_model_module_version": "1.5.0",
            "_model_name": "DescriptionStyleModel",
            "_view_count": null,
            "_view_module": "@jupyter-widgets/base",
            "_view_module_version": "1.2.0",
            "_view_name": "StyleView",
            "description_width": ""
          }
        },
        "6c2da46218504e8d807c7fdffffe4225": {
          "model_module": "@jupyter-widgets/base",
          "model_name": "LayoutModel",
          "model_module_version": "1.2.0",
          "state": {
            "_model_module": "@jupyter-widgets/base",
            "_model_module_version": "1.2.0",
            "_model_name": "LayoutModel",
            "_view_count": null,
            "_view_module": "@jupyter-widgets/base",
            "_view_module_version": "1.2.0",
            "_view_name": "LayoutView",
            "align_content": null,
            "align_items": null,
            "align_self": null,
            "border": null,
            "bottom": null,
            "display": null,
            "flex": null,
            "flex_flow": null,
            "grid_area": null,
            "grid_auto_columns": null,
            "grid_auto_flow": null,
            "grid_auto_rows": null,
            "grid_column": null,
            "grid_gap": null,
            "grid_row": null,
            "grid_template_areas": null,
            "grid_template_columns": null,
            "grid_template_rows": null,
            "height": null,
            "justify_content": null,
            "justify_items": null,
            "left": null,
            "margin": null,
            "max_height": null,
            "max_width": null,
            "min_height": null,
            "min_width": null,
            "object_fit": null,
            "object_position": null,
            "order": null,
            "overflow": null,
            "overflow_x": null,
            "overflow_y": null,
            "padding": null,
            "right": null,
            "top": null,
            "visibility": null,
            "width": null
          }
        },
        "7cc5e3553b3a45b39fa99afd27f2326d": {
          "model_module": "@jupyter-widgets/controls",
          "model_name": "ProgressStyleModel",
          "model_module_version": "1.5.0",
          "state": {
            "_model_module": "@jupyter-widgets/controls",
            "_model_module_version": "1.5.0",
            "_model_name": "ProgressStyleModel",
            "_view_count": null,
            "_view_module": "@jupyter-widgets/base",
            "_view_module_version": "1.2.0",
            "_view_name": "StyleView",
            "bar_color": null,
            "description_width": ""
          }
        },
        "a2caf7c999a242c1b0cc06cefeefcc1c": {
          "model_module": "@jupyter-widgets/base",
          "model_name": "LayoutModel",
          "model_module_version": "1.2.0",
          "state": {
            "_model_module": "@jupyter-widgets/base",
            "_model_module_version": "1.2.0",
            "_model_name": "LayoutModel",
            "_view_count": null,
            "_view_module": "@jupyter-widgets/base",
            "_view_module_version": "1.2.0",
            "_view_name": "LayoutView",
            "align_content": null,
            "align_items": null,
            "align_self": null,
            "border": null,
            "bottom": null,
            "display": null,
            "flex": null,
            "flex_flow": null,
            "grid_area": null,
            "grid_auto_columns": null,
            "grid_auto_flow": null,
            "grid_auto_rows": null,
            "grid_column": null,
            "grid_gap": null,
            "grid_row": null,
            "grid_template_areas": null,
            "grid_template_columns": null,
            "grid_template_rows": null,
            "height": null,
            "justify_content": null,
            "justify_items": null,
            "left": null,
            "margin": null,
            "max_height": null,
            "max_width": null,
            "min_height": null,
            "min_width": null,
            "object_fit": null,
            "object_position": null,
            "order": null,
            "overflow": null,
            "overflow_x": null,
            "overflow_y": null,
            "padding": null,
            "right": null,
            "top": null,
            "visibility": null,
            "width": null
          }
        },
        "cbd27ac7cd19427ca5c02ee82b3cad89": {
          "model_module": "@jupyter-widgets/controls",
          "model_name": "DescriptionStyleModel",
          "model_module_version": "1.5.0",
          "state": {
            "_model_module": "@jupyter-widgets/controls",
            "_model_module_version": "1.5.0",
            "_model_name": "DescriptionStyleModel",
            "_view_count": null,
            "_view_module": "@jupyter-widgets/base",
            "_view_module_version": "1.2.0",
            "_view_name": "StyleView",
            "description_width": ""
          }
        },
        "f3a8a1397b5a4372af29af0b5bcc42a6": {
          "model_module": "@jupyter-widgets/controls",
          "model_name": "HBoxModel",
          "model_module_version": "1.5.0",
          "state": {
            "_dom_classes": [],
            "_model_module": "@jupyter-widgets/controls",
            "_model_module_version": "1.5.0",
            "_model_name": "HBoxModel",
            "_view_count": null,
            "_view_module": "@jupyter-widgets/controls",
            "_view_module_version": "1.5.0",
            "_view_name": "HBoxView",
            "box_style": "",
            "children": [
              "IPY_MODEL_82730257188445fbadc5b2603d7cb809",
              "IPY_MODEL_a86581ca62ad423185ec6d15ad42151c",
              "IPY_MODEL_b25904e4f63e4466943af9b5fd05b4a3"
            ],
            "layout": "IPY_MODEL_20e78c8abe1140f693244fd97a79e7cf"
          }
        },
        "82730257188445fbadc5b2603d7cb809": {
          "model_module": "@jupyter-widgets/controls",
          "model_name": "HTMLModel",
          "model_module_version": "1.5.0",
          "state": {
            "_dom_classes": [],
            "_model_module": "@jupyter-widgets/controls",
            "_model_module_version": "1.5.0",
            "_model_name": "HTMLModel",
            "_view_count": null,
            "_view_module": "@jupyter-widgets/controls",
            "_view_module_version": "1.5.0",
            "_view_name": "HTMLView",
            "description": "",
            "description_tooltip": null,
            "layout": "IPY_MODEL_e8ba5466722041899bc9d243deddf618",
            "placeholder": "​",
            "style": "IPY_MODEL_f66c20ecab3e4f09ba9229ef682b9b6d",
            "value": "generation_config.json: 100%"
          }
        },
        "a86581ca62ad423185ec6d15ad42151c": {
          "model_module": "@jupyter-widgets/controls",
          "model_name": "FloatProgressModel",
          "model_module_version": "1.5.0",
          "state": {
            "_dom_classes": [],
            "_model_module": "@jupyter-widgets/controls",
            "_model_module_version": "1.5.0",
            "_model_name": "FloatProgressModel",
            "_view_count": null,
            "_view_module": "@jupyter-widgets/controls",
            "_view_module_version": "1.5.0",
            "_view_name": "ProgressView",
            "bar_style": "success",
            "description": "",
            "description_tooltip": null,
            "layout": "IPY_MODEL_933f08316ec8402e8ea7b210a0b6c8b0",
            "max": 184,
            "min": 0,
            "orientation": "horizontal",
            "style": "IPY_MODEL_9e8338064a9a4f348d82a96130179975",
            "value": 184
          }
        },
        "b25904e4f63e4466943af9b5fd05b4a3": {
          "model_module": "@jupyter-widgets/controls",
          "model_name": "HTMLModel",
          "model_module_version": "1.5.0",
          "state": {
            "_dom_classes": [],
            "_model_module": "@jupyter-widgets/controls",
            "_model_module_version": "1.5.0",
            "_model_name": "HTMLModel",
            "_view_count": null,
            "_view_module": "@jupyter-widgets/controls",
            "_view_module_version": "1.5.0",
            "_view_name": "HTMLView",
            "description": "",
            "description_tooltip": null,
            "layout": "IPY_MODEL_ffc38a2af40545679cecccb7359124d4",
            "placeholder": "​",
            "style": "IPY_MODEL_7b172d7da157499c8b0c9cf1bab0ddf1",
            "value": " 184/184 [00:00&lt;00:00, 15.5kB/s]"
          }
        },
        "20e78c8abe1140f693244fd97a79e7cf": {
          "model_module": "@jupyter-widgets/base",
          "model_name": "LayoutModel",
          "model_module_version": "1.2.0",
          "state": {
            "_model_module": "@jupyter-widgets/base",
            "_model_module_version": "1.2.0",
            "_model_name": "LayoutModel",
            "_view_count": null,
            "_view_module": "@jupyter-widgets/base",
            "_view_module_version": "1.2.0",
            "_view_name": "LayoutView",
            "align_content": null,
            "align_items": null,
            "align_self": null,
            "border": null,
            "bottom": null,
            "display": null,
            "flex": null,
            "flex_flow": null,
            "grid_area": null,
            "grid_auto_columns": null,
            "grid_auto_flow": null,
            "grid_auto_rows": null,
            "grid_column": null,
            "grid_gap": null,
            "grid_row": null,
            "grid_template_areas": null,
            "grid_template_columns": null,
            "grid_template_rows": null,
            "height": null,
            "justify_content": null,
            "justify_items": null,
            "left": null,
            "margin": null,
            "max_height": null,
            "max_width": null,
            "min_height": null,
            "min_width": null,
            "object_fit": null,
            "object_position": null,
            "order": null,
            "overflow": null,
            "overflow_x": null,
            "overflow_y": null,
            "padding": null,
            "right": null,
            "top": null,
            "visibility": null,
            "width": null
          }
        },
        "e8ba5466722041899bc9d243deddf618": {
          "model_module": "@jupyter-widgets/base",
          "model_name": "LayoutModel",
          "model_module_version": "1.2.0",
          "state": {
            "_model_module": "@jupyter-widgets/base",
            "_model_module_version": "1.2.0",
            "_model_name": "LayoutModel",
            "_view_count": null,
            "_view_module": "@jupyter-widgets/base",
            "_view_module_version": "1.2.0",
            "_view_name": "LayoutView",
            "align_content": null,
            "align_items": null,
            "align_self": null,
            "border": null,
            "bottom": null,
            "display": null,
            "flex": null,
            "flex_flow": null,
            "grid_area": null,
            "grid_auto_columns": null,
            "grid_auto_flow": null,
            "grid_auto_rows": null,
            "grid_column": null,
            "grid_gap": null,
            "grid_row": null,
            "grid_template_areas": null,
            "grid_template_columns": null,
            "grid_template_rows": null,
            "height": null,
            "justify_content": null,
            "justify_items": null,
            "left": null,
            "margin": null,
            "max_height": null,
            "max_width": null,
            "min_height": null,
            "min_width": null,
            "object_fit": null,
            "object_position": null,
            "order": null,
            "overflow": null,
            "overflow_x": null,
            "overflow_y": null,
            "padding": null,
            "right": null,
            "top": null,
            "visibility": null,
            "width": null
          }
        },
        "f66c20ecab3e4f09ba9229ef682b9b6d": {
          "model_module": "@jupyter-widgets/controls",
          "model_name": "DescriptionStyleModel",
          "model_module_version": "1.5.0",
          "state": {
            "_model_module": "@jupyter-widgets/controls",
            "_model_module_version": "1.5.0",
            "_model_name": "DescriptionStyleModel",
            "_view_count": null,
            "_view_module": "@jupyter-widgets/base",
            "_view_module_version": "1.2.0",
            "_view_name": "StyleView",
            "description_width": ""
          }
        },
        "933f08316ec8402e8ea7b210a0b6c8b0": {
          "model_module": "@jupyter-widgets/base",
          "model_name": "LayoutModel",
          "model_module_version": "1.2.0",
          "state": {
            "_model_module": "@jupyter-widgets/base",
            "_model_module_version": "1.2.0",
            "_model_name": "LayoutModel",
            "_view_count": null,
            "_view_module": "@jupyter-widgets/base",
            "_view_module_version": "1.2.0",
            "_view_name": "LayoutView",
            "align_content": null,
            "align_items": null,
            "align_self": null,
            "border": null,
            "bottom": null,
            "display": null,
            "flex": null,
            "flex_flow": null,
            "grid_area": null,
            "grid_auto_columns": null,
            "grid_auto_flow": null,
            "grid_auto_rows": null,
            "grid_column": null,
            "grid_gap": null,
            "grid_row": null,
            "grid_template_areas": null,
            "grid_template_columns": null,
            "grid_template_rows": null,
            "height": null,
            "justify_content": null,
            "justify_items": null,
            "left": null,
            "margin": null,
            "max_height": null,
            "max_width": null,
            "min_height": null,
            "min_width": null,
            "object_fit": null,
            "object_position": null,
            "order": null,
            "overflow": null,
            "overflow_x": null,
            "overflow_y": null,
            "padding": null,
            "right": null,
            "top": null,
            "visibility": null,
            "width": null
          }
        },
        "9e8338064a9a4f348d82a96130179975": {
          "model_module": "@jupyter-widgets/controls",
          "model_name": "ProgressStyleModel",
          "model_module_version": "1.5.0",
          "state": {
            "_model_module": "@jupyter-widgets/controls",
            "_model_module_version": "1.5.0",
            "_model_name": "ProgressStyleModel",
            "_view_count": null,
            "_view_module": "@jupyter-widgets/base",
            "_view_module_version": "1.2.0",
            "_view_name": "StyleView",
            "bar_color": null,
            "description_width": ""
          }
        },
        "ffc38a2af40545679cecccb7359124d4": {
          "model_module": "@jupyter-widgets/base",
          "model_name": "LayoutModel",
          "model_module_version": "1.2.0",
          "state": {
            "_model_module": "@jupyter-widgets/base",
            "_model_module_version": "1.2.0",
            "_model_name": "LayoutModel",
            "_view_count": null,
            "_view_module": "@jupyter-widgets/base",
            "_view_module_version": "1.2.0",
            "_view_name": "LayoutView",
            "align_content": null,
            "align_items": null,
            "align_self": null,
            "border": null,
            "bottom": null,
            "display": null,
            "flex": null,
            "flex_flow": null,
            "grid_area": null,
            "grid_auto_columns": null,
            "grid_auto_flow": null,
            "grid_auto_rows": null,
            "grid_column": null,
            "grid_gap": null,
            "grid_row": null,
            "grid_template_areas": null,
            "grid_template_columns": null,
            "grid_template_rows": null,
            "height": null,
            "justify_content": null,
            "justify_items": null,
            "left": null,
            "margin": null,
            "max_height": null,
            "max_width": null,
            "min_height": null,
            "min_width": null,
            "object_fit": null,
            "object_position": null,
            "order": null,
            "overflow": null,
            "overflow_x": null,
            "overflow_y": null,
            "padding": null,
            "right": null,
            "top": null,
            "visibility": null,
            "width": null
          }
        },
        "7b172d7da157499c8b0c9cf1bab0ddf1": {
          "model_module": "@jupyter-widgets/controls",
          "model_name": "DescriptionStyleModel",
          "model_module_version": "1.5.0",
          "state": {
            "_model_module": "@jupyter-widgets/controls",
            "_model_module_version": "1.5.0",
            "_model_name": "DescriptionStyleModel",
            "_view_count": null,
            "_view_module": "@jupyter-widgets/base",
            "_view_module_version": "1.2.0",
            "_view_name": "StyleView",
            "description_width": ""
          }
        }
      }
    },
    "accelerator": "GPU"
  },
  "nbformat": 4,
  "nbformat_minor": 0
}